{
 "cells": [
  {
   "cell_type": "markdown",
   "metadata": {},
   "source": [
    "**Feature Engineering Notebook One: Data Prepocessing**  \n",
    "*Author: Yingxiang Chen*"
   ]
  },
  {
   "cell_type": "markdown",
   "metadata": {},
   "source": [
    "**Reference**:  \n",
    "- https://scikit-learn.org/stable/modules/preprocessing.html#preprocessing\n",
    "- https://towardsdatascience.com/preprocessing-with-sklearn-a-complete-and-comprehensive-guide-670cb98fcfb9\n",
    "- https://www.analyticsvidhya.com/blog/2016/07/practical-guide-data-preprocessing-python-scikit-learn/\n",
    "- Sarkar, D., Bali, R., & Sharma, T. (2018). Practical Machine Learning with Python. A Problem-Solvers Guide To Building Real-World Intelligent Systems, Berkely.\n",
    "- https://contrib.scikit-learn.org/categorical-encoding/index.html\n",
    "- https://towardsdatascience.com/all-about-categorical-variable-encoding-305f3361fd02\n",
    "- https://stats.idre.ucla.edu/r/library/r-library-contrast-coding-systems-for-categorical-variables/\n",
    "- https://kiwidamien.github.io/james-stein-encoder.html\n",
    "- https://chris-said.io/2017/05/03/empirical-bayes-for-multiple-sample-sizes/\n",
    "- http://support.sas.com/documentation/cdl/en/prochp/66704/HTML/default/viewer.htm#prochp_hpbin_details02.htm\n",
    "- https://catboost.ai/docs/concepts/algorithm-main-stages_cat-to-numberic.html\n",
    "- https://docs.featuretools.com/en/stable/index.html\n",
    "- https://heartbeat.fritz.ai/introduction-to-automated-feature-engineering-using-deep-feature-synthesis-dfs-3feb69a7c00b"
   ]
  },
  {
   "cell_type": "markdown",
   "metadata": {
    "toc": true
   },
   "source": [
    "<h1>Table of Contents<span class=\"tocSkip\"></span></h1>\n",
    "<div class=\"toc\"><ul class=\"toc-item\"><li><span><a href=\"#Data-Prepocessing\" data-toc-modified-id=\"Data-Prepocessing-1\"><span class=\"toc-item-num\">1&nbsp;&nbsp;</span>Data Prepocessing</a></span><ul class=\"toc-item\"><li><span><a href=\"#Static-Continuous-Variables\" data-toc-modified-id=\"Static-Continuous-Variables-1.1\"><span class=\"toc-item-num\">1.1&nbsp;&nbsp;</span>Static Continuous Variables</a></span><ul class=\"toc-item\"><li><span><a href=\"#Discretization\" data-toc-modified-id=\"Discretization-1.1.1\"><span class=\"toc-item-num\">1.1.1&nbsp;&nbsp;</span>Discretization</a></span><ul class=\"toc-item\"><li><span><a href=\"#Binarization\" data-toc-modified-id=\"Binarization-1.1.1.1\"><span class=\"toc-item-num\">1.1.1.1&nbsp;&nbsp;</span>Binarization</a></span></li><li><span><a href=\"#Binning\" data-toc-modified-id=\"Binning-1.1.1.2\"><span class=\"toc-item-num\">1.1.1.2&nbsp;&nbsp;</span>Binning</a></span></li></ul></li><li><span><a href=\"#Scaling\" data-toc-modified-id=\"Scaling-1.1.2\"><span class=\"toc-item-num\">1.1.2&nbsp;&nbsp;</span>Scaling</a></span><ul class=\"toc-item\"><li><span><a href=\"#Stardard-Scaling-(Z-score-standardization)\" data-toc-modified-id=\"Stardard-Scaling-(Z-score-standardization)-1.1.2.1\"><span class=\"toc-item-num\">1.1.2.1&nbsp;&nbsp;</span>Stardard Scaling (Z-score standardization)</a></span></li><li><span><a href=\"#MinMaxScaler-(Scale-to-range)\" data-toc-modified-id=\"MinMaxScaler-(Scale-to-range)-1.1.2.2\"><span class=\"toc-item-num\">1.1.2.2&nbsp;&nbsp;</span>MinMaxScaler (Scale to range)</a></span></li><li><span><a href=\"#RobustScaler-(Anti-outliers-scaling)\" data-toc-modified-id=\"RobustScaler-(Anti-outliers-scaling)-1.1.2.3\"><span class=\"toc-item-num\">1.1.2.3&nbsp;&nbsp;</span>RobustScaler (Anti-outliers scaling)</a></span></li><li><span><a href=\"#Power-Transform-(Non-linear-transformation)\" data-toc-modified-id=\"Power-Transform-(Non-linear-transformation)-1.1.2.4\"><span class=\"toc-item-num\">1.1.2.4&nbsp;&nbsp;</span>Power Transform (Non-linear transformation)</a></span></li></ul></li><li><span><a href=\"#Normalization\" data-toc-modified-id=\"Normalization-1.1.3\"><span class=\"toc-item-num\">1.1.3&nbsp;&nbsp;</span>Normalization</a></span></li><li><span><a href=\"#Imputation-of-missing-values\" data-toc-modified-id=\"Imputation-of-missing-values-1.1.4\"><span class=\"toc-item-num\">1.1.4&nbsp;&nbsp;</span>Imputation of missing values</a></span><ul class=\"toc-item\"><li><span><a href=\"#Univariate-feature-imputation\" data-toc-modified-id=\"Univariate-feature-imputation-1.1.4.1\"><span class=\"toc-item-num\">1.1.4.1&nbsp;&nbsp;</span>Univariate feature imputation</a></span></li><li><span><a href=\"#Multivariate-feature-imputation\" data-toc-modified-id=\"Multivariate-feature-imputation-1.1.4.2\"><span class=\"toc-item-num\">1.1.4.2&nbsp;&nbsp;</span>Multivariate feature imputation</a></span></li><li><span><a href=\"#Marking-imputed-values\" data-toc-modified-id=\"Marking-imputed-values-1.1.4.3\"><span class=\"toc-item-num\">1.1.4.3&nbsp;&nbsp;</span>Marking imputed values</a></span></li></ul></li><li><span><a href=\"#Feature-Transformation\" data-toc-modified-id=\"Feature-Transformation-1.1.5\"><span class=\"toc-item-num\">1.1.5&nbsp;&nbsp;</span>Feature Transformation</a></span><ul class=\"toc-item\"><li><span><a href=\"#Polynomial-Transformation\" data-toc-modified-id=\"Polynomial-Transformation-1.1.5.1\"><span class=\"toc-item-num\">1.1.5.1&nbsp;&nbsp;</span>Polynomial Transformation</a></span></li><li><span><a href=\"#Custom-Transformation\" data-toc-modified-id=\"Custom-Transformation-1.1.5.2\"><span class=\"toc-item-num\">1.1.5.2&nbsp;&nbsp;</span>Custom Transformation</a></span></li></ul></li></ul></li><li><span><a href=\"#Static-Categorical-Variables\" data-toc-modified-id=\"Static-Categorical-Variables-1.2\"><span class=\"toc-item-num\">1.2&nbsp;&nbsp;</span>Static Categorical Variables</a></span><ul class=\"toc-item\"><li><span><a href=\"#Ordinal-Encoding\" data-toc-modified-id=\"Ordinal-Encoding-1.2.1\"><span class=\"toc-item-num\">1.2.1&nbsp;&nbsp;</span>Ordinal Encoding</a></span></li><li><span><a href=\"#One-hot-Encoding\" data-toc-modified-id=\"One-hot-Encoding-1.2.2\"><span class=\"toc-item-num\">1.2.2&nbsp;&nbsp;</span>One-hot Encoding</a></span></li><li><span><a href=\"#Hashing-Encoding\" data-toc-modified-id=\"Hashing-Encoding-1.2.3\"><span class=\"toc-item-num\">1.2.3&nbsp;&nbsp;</span>Hashing Encoding</a></span></li><li><span><a href=\"#Helmert-Coding\" data-toc-modified-id=\"Helmert-Coding-1.2.4\"><span class=\"toc-item-num\">1.2.4&nbsp;&nbsp;</span>Helmert Coding</a></span></li><li><span><a href=\"#Sum-(Deviation)-Coding\" data-toc-modified-id=\"Sum-(Deviation)-Coding-1.2.5\"><span class=\"toc-item-num\">1.2.5&nbsp;&nbsp;</span>Sum (Deviation) Coding</a></span></li><li><span><a href=\"#Target-Encoding\" data-toc-modified-id=\"Target-Encoding-1.2.6\"><span class=\"toc-item-num\">1.2.6&nbsp;&nbsp;</span>Target Encoding</a></span></li><li><span><a href=\"#M-estimate-Encoding\" data-toc-modified-id=\"M-estimate-Encoding-1.2.7\"><span class=\"toc-item-num\">1.2.7&nbsp;&nbsp;</span>M-estimate Encoding</a></span></li><li><span><a href=\"#James-Stein-Encoder\" data-toc-modified-id=\"James-Stein-Encoder-1.2.8\"><span class=\"toc-item-num\">1.2.8&nbsp;&nbsp;</span>James-Stein Encoder</a></span></li><li><span><a href=\"#Weight-of-Evidence-Encoder\" data-toc-modified-id=\"Weight-of-Evidence-Encoder-1.2.9\"><span class=\"toc-item-num\">1.2.9&nbsp;&nbsp;</span>Weight of Evidence Encoder</a></span></li><li><span><a href=\"#Leave-One-Out-Encoder\" data-toc-modified-id=\"Leave-One-Out-Encoder-1.2.10\"><span class=\"toc-item-num\">1.2.10&nbsp;&nbsp;</span>Leave One Out Encoder</a></span></li><li><span><a href=\"#Catboost-Encoder\" data-toc-modified-id=\"Catboost-Encoder-1.2.11\"><span class=\"toc-item-num\">1.2.11&nbsp;&nbsp;</span>Catboost Encoder</a></span></li></ul></li><li><span><a href=\"#Time-Series-Variables\" data-toc-modified-id=\"Time-Series-Variables-1.3\"><span class=\"toc-item-num\">1.3&nbsp;&nbsp;</span>Time Series Variables</a></span><ul class=\"toc-item\"><li><span><a href=\"#Time-Series-Categorical-Features\" data-toc-modified-id=\"Time-Series-Categorical-Features-1.3.1\"><span class=\"toc-item-num\">1.3.1&nbsp;&nbsp;</span>Time Series Categorical Features</a></span></li><li><span><a href=\"#Time-Series-Continuous-Features\" data-toc-modified-id=\"Time-Series-Continuous-Features-1.3.2\"><span class=\"toc-item-num\">1.3.2&nbsp;&nbsp;</span>Time Series Continuous Features</a></span></li><li><span><a href=\"#Implementation\" data-toc-modified-id=\"Implementation-1.3.3\"><span class=\"toc-item-num\">1.3.3&nbsp;&nbsp;</span>Implementation</a></span><ul class=\"toc-item\"><li><span><a href=\"#Create-EntitySet\" data-toc-modified-id=\"Create-EntitySet-1.3.3.1\"><span class=\"toc-item-num\">1.3.3.1&nbsp;&nbsp;</span>Create EntitySet</a></span></li><li><span><a href=\"#Set-up-cut-time\" data-toc-modified-id=\"Set-up-cut-time-1.3.3.2\"><span class=\"toc-item-num\">1.3.3.2&nbsp;&nbsp;</span>Set up cut-time</a></span></li><li><span><a href=\"#Auto-Feature-Engineering\" data-toc-modified-id=\"Auto-Feature-Engineering-1.3.3.3\"><span class=\"toc-item-num\">1.3.3.3&nbsp;&nbsp;</span>Auto Feature Engineering</a></span></li></ul></li></ul></li></ul></li></ul></div>"
   ]
  },
  {
   "cell_type": "markdown",
   "metadata": {},
   "source": [
    "# Data Prepocessing"
   ]
  },
  {
   "cell_type": "markdown",
   "metadata": {},
   "source": [
    "## Static Continuous Variables"
   ]
  },
  {
   "cell_type": "markdown",
   "metadata": {},
   "source": [
    "### Discretization"
   ]
  },
  {
   "cell_type": "markdown",
   "metadata": {},
   "source": [
    "Discretizing the continuous variables might make the model more robust. For example, when predicting the purchasing behavior of customers, a customer making 30 previous purchases might have very simmilar behavior with a customer making 32 previous purchases. Sometimes the over-precision in the feature might be noise, and that's why in LightGBM, the model adopts histogram algorithm to prevent over-fit. There are too ways to discretize the continuous variables. "
   ]
  },
  {
   "cell_type": "markdown",
   "metadata": {},
   "source": [
    "#### Binarization"
   ]
  },
  {
   "cell_type": "markdown",
   "metadata": {},
   "source": [
    "Convert numeric features into binary response"
   ]
  },
  {
   "cell_type": "code",
   "execution_count": 1,
   "metadata": {
    "ExecuteTime": {
     "end_time": "2020-01-07T16:50:44.711963Z",
     "start_time": "2020-01-07T16:50:43.668473Z"
    }
   },
   "outputs": [],
   "source": [
    "# load the sample data\n",
    "from sklearn.datasets import fetch_california_housing\n",
    "dataset = fetch_california_housing()\n",
    "X, y = dataset.data, dataset.target # we will take the first column as the example"
   ]
  },
  {
   "cell_type": "code",
   "execution_count": 2,
   "metadata": {
    "ExecuteTime": {
     "end_time": "2020-01-07T16:50:45.392888Z",
     "start_time": "2020-01-07T16:50:44.714456Z"
    }
   },
   "outputs": [],
   "source": [
    "import seaborn as sns\n",
    "import matplotlib.pyplot as plt\n",
    "\n",
    "fig, ax = plt.subplots()\n",
    "sns.distplot(X[:,0], hist = True, kde=True)\n",
    "ax.set_title('Histogram', fontsize=12)\n",
    "ax.set_xlabel('Value', fontsize=12)\n",
    "ax.set_ylabel('Frequency', fontsize=12); # this feature has long-tail distribution"
   ]
  },
  {
   "cell_type": "code",
   "execution_count": 3,
   "metadata": {
    "ExecuteTime": {
     "end_time": "2020-01-07T16:50:45.398138Z",
     "start_time": "2020-01-07T16:50:45.394407Z"
    }
   },
   "outputs": [],
   "source": [
    "from sklearn.preprocessing import Binarizer\n",
    "\n",
    "sample_columns = X[0:10,0]\n",
    "# return array([8.3252, 8.3014, 7.2574, 5.6431, 3.8462, 4.0368, 3.6591, 3.12, 2.0804, 3.6912])\n",
    "\n",
    "model = Binarizer(threshold=6) # set 6 to be the threshold\n",
    "# if value <= 6, then return 0 else return 1\n",
    "result = model.fit_transform(sample_columns.reshape(-1,1)).reshape(-1)\n",
    "# return array([1., 1., 1., 0., 0., 0., 0., 0., 0., 0.])"
   ]
  },
  {
   "cell_type": "markdown",
   "metadata": {},
   "source": [
    "#### Binning"
   ]
  },
  {
   "cell_type": "markdown",
   "metadata": {},
   "source": [
    "Map numeric features into bins"
   ]
  },
  {
   "cell_type": "markdown",
   "metadata": {},
   "source": [
    "##### Uniform Binning"
   ]
  },
  {
   "cell_type": "code",
   "execution_count": 4,
   "metadata": {
    "ExecuteTime": {
     "end_time": "2020-01-07T16:50:47.119269Z",
     "start_time": "2020-01-07T16:50:47.114067Z"
    }
   },
   "outputs": [],
   "source": [
    "from sklearn.preprocessing import KBinsDiscretizer\n",
    "\n",
    "# in order to mimic the operation in real-world, we shall fit the KBinsDiscretizer\n",
    "# on the trainset and transform the testset\n",
    "# we take the top ten samples in the first column as train set\n",
    "# take the rest samples in the first column as test set\n",
    "\n",
    "test_set = X[0:10,0]\n",
    "# return array([8.3252, 8.3014, 7.2574, 5.6431, 3.8462, 4.0368, 3.6591, 3.12, 2.0804, 3.6912])\n",
    "train_set = X[10:,0]\n",
    "\n",
    "model = KBinsDiscretizer(n_bins=5, encode='ordinal', strategy='uniform') # set 3 bins\n",
    "# return oridinal bin number, set all bins to have identical widths\n",
    "\n",
    "model.fit(train_set.reshape(-1,1))\n",
    "result = model.transform(test_set.reshape(-1,1)).reshape(-1)\n",
    "# return array([2., 2., 2., 1., 1., 1., 1., 0., 0., 1.])\n",
    "bin_edge = model.bin_edges_[0]\n",
    "# return array([ 0.4999 ,  3.39994,  6.29998,  9.20002, 12.10006, 15.0001 ]), the bin edges"
   ]
  },
  {
   "cell_type": "code",
   "execution_count": 5,
   "metadata": {
    "ExecuteTime": {
     "end_time": "2020-01-07T16:50:48.006307Z",
     "start_time": "2020-01-07T16:50:47.711578Z"
    }
   },
   "outputs": [
    {
     "data": {
      "image/png": "[encoded data removed]",
      "text/plain": [
       "<Figure size 432x288 with 1 Axes>"
      ]
     },
     "metadata": {
      "needs_background": "light"
     },
     "output_type": "display_data"
    }
   ],
   "source": [
    "# visualiza the bin edges\n",
    "fig, ax = plt.subplots()\n",
    "sns.distplot(train_set, hist = True, kde=True)\n",
    "\n",
    "for edge in bin_edge: # uniform bins\n",
    "    line = plt.axvline(edge, color='b')\n",
    "ax.legend([line], ['Quantiles'], fontsize=10)\n",
    "ax.set_title('Histogram', fontsize=12)\n",
    "ax.set_xlabel('Value', fontsize=12)\n",
    "ax.set_ylabel('Frequency', fontsize=12); "
   ]
  },
  {
   "cell_type": "markdown",
   "metadata": {
    "ExecuteTime": {
     "end_time": "2020-01-05T04:05:57.799444Z",
     "start_time": "2020-01-05T04:05:57.793970Z"
    }
   },
   "source": [
    "##### Quantile Binning"
   ]
  },
  {
   "cell_type": "code",
   "execution_count": 6,
   "metadata": {
    "ExecuteTime": {
     "end_time": "2020-01-07T16:50:48.806582Z",
     "start_time": "2020-01-07T16:50:48.800097Z"
    }
   },
   "outputs": [],
   "source": [
    "from sklearn.preprocessing import KBinsDiscretizer\n",
    "\n",
    "# in order to mimic the operation in real-world, we shall fit the KBinsDiscretizer\n",
    "# on the trainset and transform the testset\n",
    "# we take the top ten samples in the first column as train set\n",
    "# take the rest samples in the first column as test set\n",
    "\n",
    "test_set = X[0:10,0]\n",
    "# return array([8.3252, 8.3014, 7.2574, 5.6431, 3.8462, 4.0368, 3.6591, 3.12, 2.0804, 3.6912])\n",
    "train_set = X[10:,0]\n",
    "\n",
    "model = KBinsDiscretizer(n_bins=5, encode='ordinal', strategy='quantile') # set 3 bins\n",
    "# return oridinal bin number, set all bins based on quantile\n",
    "\n",
    "model.fit(train_set.reshape(-1,1))\n",
    "result = model.transform(test_set.reshape(-1,1)).reshape(-1)\n",
    "# return array([4., 4., 4., 4., 2., 3., 2., 1., 0., 2.])\n",
    "bin_edge = model.bin_edges_[0]\n",
    "# return array([ 0.4999 ,  2.3523 ,  3.1406 ,  3.9667 ,  5.10824, 15.0001 ]), the bin edges\n",
    "# 2.3523 is the 20% quantile\n",
    "# 3.1406 is the 40% quantile, etc.."
   ]
  },
  {
   "cell_type": "code",
   "execution_count": 7,
   "metadata": {
    "ExecuteTime": {
     "end_time": "2020-01-07T16:50:49.386346Z",
     "start_time": "2020-01-07T16:50:49.067665Z"
    }
   },
   "outputs": [
    {
     "data": {
      "image/png": "[encoded data removed]",
      "text/plain": [
       "<Figure size 432x288 with 1 Axes>"
      ]
     },
     "metadata": {
      "needs_background": "light"
     },
     "output_type": "display_data"
    }
   ],
   "source": [
    "# visualiza the bin edges\n",
    "fig, ax = plt.subplots()\n",
    "sns.distplot(train_set, hist = True, kde=True)\n",
    "\n",
    "for edge in bin_edge: # uniform bins\n",
    "    line = plt.axvline(edge, color='b')\n",
    "ax.legend([line], ['Quantiles'], fontsize=10)\n",
    "ax.set_title('Histogram', fontsize=12)\n",
    "ax.set_xlabel('Value', fontsize=12)\n",
    "ax.set_ylabel('Frequency', fontsize=12); "
   ]
  },
  {
   "cell_type": "markdown",
   "metadata": {},
   "source": [
    "### Scaling"
   ]
  },
  {
   "cell_type": "markdown",
   "metadata": {
    "cell_style": "center"
   },
   "source": [
    "Different scales in features make it hard to compare features expecially in linear models such as linear regression & logistic regression. In k-means clustering with Euclidean distance or KNN model, feature scaling is required or the distance measure becomes useless. For any algorithms using Gradient Descent, scaling will also speed up convergering speed. "
   ]
  },
  {
   "cell_type": "markdown",
   "metadata": {
    "cell_style": "center"
   },
   "source": [
    "|Algorithm Name | Distance Based | Need Scaling |\n",
    "|--|--|--|\n",
    "| SVM, KNN, PCA, K-Means, Linear Regression, Logistic Regression| $\\checkmark$ |$\\checkmark$|\n",
    "| Naive Bayes, Linear Discriminant Analysis, Tree-Based models | $\\times$ |$\\times$|\n",
    "\n",
    "* Skewness affect PCA models, so it is better to use Power Transformation to remove skewness\n",
    "\n",
    "\n"
   ]
  },
  {
   "cell_type": "markdown",
   "metadata": {},
   "source": [
    "#### Stardard Scaling (Z-score standardization)"
   ]
  },
  {
   "cell_type": "markdown",
   "metadata": {
    "ExecuteTime": {
     "end_time": "2020-01-05T17:59:35.668652Z",
     "start_time": "2020-01-05T17:59:35.663440Z"
    }
   },
   "source": [
    "Formula: ${X}' = \\frac{X - \\mu }{\\sigma}$  \n",
    "Where $\\mu$ is the mean of X and $\\sigma$ is the standard deviation  \n",
    "This method is very sensitive to outliers because outliers affect $\\mu$ and $\\sigma$"
   ]
  },
  {
   "cell_type": "code",
   "execution_count": 8,
   "metadata": {
    "ExecuteTime": {
     "end_time": "2020-01-07T16:50:52.172288Z",
     "start_time": "2020-01-07T16:50:52.165968Z"
    }
   },
   "outputs": [],
   "source": [
    "from sklearn.preprocessing import StandardScaler\n",
    "\n",
    "# in order to mimic the operation in real-world, we shall fit the StandardScaler\n",
    "# on the trainset and transform the testset\n",
    "# we take the top ten samples in the first column as train set\n",
    "# take the rest samples in the first column as test set\n",
    "\n",
    "test_set = X[0:10,0]\n",
    "# return array([8.3252, 8.3014, 7.2574, 5.6431, 3.8462, 4.0368, 3.6591, 3.12, 2.0804, 3.6912])\n",
    "train_set = X[10:,0]\n",
    "\n",
    "model = StandardScaler()\n",
    "\n",
    "model.fit(train_set.reshape(-1,1)) # fit on the train set and transform the test set\n",
    "# top ten numbers for simplification\n",
    "result = model.transform(test_set.reshape(-1,1)).reshape(-1)\n",
    "# return array([ 2.34539745,  2.33286782,  1.78324852,  0.93339178, -0.0125957 ,\n",
    "# 0.08774668, -0.11109548, -0.39490751, -0.94221041, -0.09419626])\n",
    "# result is the same as ((X[0:10,0] - X[10:,0].mean())/X[10:,0].std())"
   ]
  },
  {
   "cell_type": "code",
   "execution_count": 9,
   "metadata": {
    "ExecuteTime": {
     "end_time": "2020-01-07T16:50:53.822404Z",
     "start_time": "2020-01-07T16:50:53.230599Z"
    }
   },
   "outputs": [
    {
     "data": {
      "image/png": "[encoded data removed]",
      "text/plain": [
       "<Figure size 936x648 with 2 Axes>"
      ]
     },
     "metadata": {
      "needs_background": "light"
     },
     "output_type": "display_data"
    }
   ],
   "source": [
    "# visualize the distribution after the scaling\n",
    "# fit and transform the entire first feature\n",
    "\n",
    "import seaborn as sns\n",
    "import matplotlib.pyplot as plt\n",
    "\n",
    "fig, ax = plt.subplots(2,1, figsize = (13,9))\n",
    "sns.distplot(X[:,0], hist = True, kde=True, ax=ax[0])\n",
    "ax[0].set_title('Histogram of original distribution', fontsize=12)\n",
    "ax[0].set_xlabel('Value', fontsize=12)\n",
    "ax[0].set_ylabel('Frequency', fontsize=12); # this feature has long-tail distribution\n",
    "\n",
    "model = StandardScaler()\n",
    "model.fit(X[:,0].reshape(-1,1)) \n",
    "result = model.transform(X[:,0].reshape(-1,1)).reshape(-1)\n",
    "\n",
    "# show the distribution of the entire feature\n",
    "sns.distplot(result, hist = True, kde=True, ax=ax[1])\n",
    "ax[1].set_title('Histogram of transformed distribution', fontsize=12)\n",
    "ax[1].set_xlabel('Value', fontsize=12)\n",
    "ax[1].set_ylabel('Frequency', fontsize=12); # the distribution is the same, but scales change\n",
    "fig.tight_layout()"
   ]
  },
  {
   "cell_type": "markdown",
   "metadata": {},
   "source": [
    "#### MinMaxScaler (Scale to range)"
   ]
  },
  {
   "cell_type": "markdown",
   "metadata": {},
   "source": [
    "Suppose we want to rescale the feature to range (a,b)  \n",
    "Formula: ${X}' = \\frac{X - Min }{Max - Min} * (b - a) + a$  \n",
    "Where $Min$ is the minimun of X and $Max$ is the maximun of X  \n",
    "This method is also very sensitive to outliers because outliers affect $Min$ and $Max$"
   ]
  },
  {
   "cell_type": "code",
   "execution_count": 10,
   "metadata": {
    "ExecuteTime": {
     "end_time": "2020-01-07T16:50:55.283688Z",
     "start_time": "2020-01-07T16:50:55.278673Z"
    }
   },
   "outputs": [],
   "source": [
    "from sklearn.preprocessing import MinMaxScaler\n",
    "\n",
    "# in order to mimic the operation in real-world, we shall fit the MinMaxScaler\n",
    "# on the trainset and transform the testset\n",
    "# we take the top ten samples in the first column as train set\n",
    "# take the rest samples in the first column as test set\n",
    "\n",
    "test_set = X[0:10,0]\n",
    "# return array([8.3252, 8.3014, 7.2574, 5.6431, 3.8462, 4.0368, 3.6591, 3.12, 2.0804, 3.6912])\n",
    "train_set = X[10:,0]\n",
    "\n",
    "model = MinMaxScaler(feature_range=(0,1)) # set the range to be (0,1)\n",
    "\n",
    "model.fit(train_set.reshape(-1,1)) # fit on the train set and transform the test set\n",
    "# top ten numbers for simplification\n",
    "result = model.transform(test_set.reshape(-1,1)).reshape(-1)\n",
    "# return array([0.53966842, 0.53802706, 0.46602805, 0.35469856, 0.23077613,\n",
    "# 0.24392077, 0.21787286, 0.18069406, 0.1089985 , 0.22008662])\n",
    "# result is the same as (X[0:10,0] - X[10:,0].min())/(X[10:,0].max()-X[10:,0].min())"
   ]
  },
  {
   "cell_type": "code",
   "execution_count": 11,
   "metadata": {
    "ExecuteTime": {
     "end_time": "2020-01-07T16:50:56.042516Z",
     "start_time": "2020-01-07T16:50:55.482462Z"
    }
   },
   "outputs": [
    {
     "data": {
      "image/png": "[encoded data removed]",
      "text/plain": [
       "<Figure size 936x648 with 2 Axes>"
      ]
     },
     "metadata": {
      "needs_background": "light"
     },
     "output_type": "display_data"
    }
   ],
   "source": [
    "# visualize the distribution after the scaling\n",
    "# fit and transform the entire first feature\n",
    "\n",
    "import seaborn as sns\n",
    "import matplotlib.pyplot as plt\n",
    "\n",
    "fig, ax = plt.subplots(2,1, figsize = (13,9))\n",
    "sns.distplot(X[:,0], hist = True, kde=True, ax=ax[0])\n",
    "ax[0].set_title('Histogram of original distribution', fontsize=12)\n",
    "ax[0].set_xlabel('Value', fontsize=12)\n",
    "ax[0].set_ylabel('Frequency', fontsize=12); # this feature has long-tail distribution\n",
    "\n",
    "model = MinMaxScaler(feature_range=(0,1))\n",
    "model.fit(X[:,0].reshape(-1,1)) \n",
    "result = model.transform(X[:,0].reshape(-1,1)).reshape(-1)\n",
    "\n",
    "# show the distribution of the entire feature\n",
    "sns.distplot(result, hist = True, kde=True, ax=ax[1])\n",
    "ax[1].set_title('Histogram of transformed distribution', fontsize=12)\n",
    "ax[1].set_xlabel('Value', fontsize=12)\n",
    "ax[1].set_ylabel('Frequency', fontsize=12); # the distribution is the same, but scales change\n",
    "fig.tight_layout() # now the scale change to [0,1]"
   ]
  },
  {
   "cell_type": "markdown",
   "metadata": {},
   "source": [
    "#### RobustScaler (Anti-outliers scaling)"
   ]
  },
  {
   "cell_type": "markdown",
   "metadata": {},
   "source": [
    "Scale features using statistics (quantiles) that are robust to outliers  \n",
    "Suppose we want to scale the feature to quantile range (a, b)  \n",
    "Formula: ${X}' = \\frac{X - Median}{X.quantile(b) - X.quantile(a)}$  \n",
    "This method is more robust to outliers"
   ]
  },
  {
   "cell_type": "code",
   "execution_count": 12,
   "metadata": {
    "ExecuteTime": {
     "end_time": "2020-01-07T16:50:57.102351Z",
     "start_time": "2020-01-07T16:50:57.095579Z"
    }
   },
   "outputs": [],
   "source": [
    "import numpy as np\n",
    "from sklearn.preprocessing import RobustScaler\n",
    "\n",
    "# in order to mimic the operation in real-world, we shall fit the RobustScaler\n",
    "# on the trainset and transform the testset\n",
    "# we take the top ten samples in the first column as train set\n",
    "# take the rest samples in the first column as test set\n",
    "\n",
    "test_set = X[0:10,0]\n",
    "# return array([8.3252, 8.3014, 7.2574, 5.6431, 3.8462, 4.0368, 3.6591, 3.12, 2.0804, 3.6912])\n",
    "train_set = X[10:,0]\n",
    "\n",
    "model = RobustScaler(with_centering = True, with_scaling = True, \n",
    "                    quantile_range = (25.0, 75.0))\n",
    "# with_centering = True => recenter the feature by set X' = X - X.median()\n",
    "# with_scaling = True => rescale the feature by the quantile set by user\n",
    "# set the quantile to the (25%, 75%)\n",
    "\n",
    "model.fit(train_set.reshape(-1,1)) # fit on the train set and transform the test set\n",
    "# top ten numbers for simplification\n",
    "result = model.transform(test_set.reshape(-1,1)).reshape(-1)\n",
    "# return array([ 2.19755974,  2.18664281,  1.7077657 ,  0.96729508,  0.14306683,\n",
    "# 0.23049401,  0.05724508, -0.19003715, -0.66689601,  0.07196918])\n",
    "# result is the same as (X[0:10,0] - np.quantile(X[10:,0], 0.5))/(np.quantile(X[10:,0],0.75)-np.quantile(X[10:,0], 0.25))"
   ]
  },
  {
   "cell_type": "code",
   "execution_count": 13,
   "metadata": {
    "ExecuteTime": {
     "end_time": "2020-01-07T16:51:00.028078Z",
     "start_time": "2020-01-07T16:50:59.467391Z"
    }
   },
   "outputs": [
    {
     "data": {
      "image/png": "[encoded data removed]",
      "text/plain": [
       "<Figure size 936x648 with 2 Axes>"
      ]
     },
     "metadata": {
      "needs_background": "light"
     },
     "output_type": "display_data"
    }
   ],
   "source": [
    "# visualize the distribution after the scaling\n",
    "# fit and transform the entire first feature\n",
    "\n",
    "import seaborn as sns\n",
    "import matplotlib.pyplot as plt\n",
    "\n",
    "fig, ax = plt.subplots(2,1, figsize = (13,9))\n",
    "sns.distplot(X[:,0], hist = True, kde=True, ax=ax[0])\n",
    "ax[0].set_title('Histogram of original distribution', fontsize=12)\n",
    "ax[0].set_xlabel('Value', fontsize=12)\n",
    "ax[0].set_ylabel('Frequency', fontsize=12); # this feature has long-tail distribution\n",
    "\n",
    "model = RobustScaler(with_centering = True, with_scaling = True, \n",
    "                    quantile_range = (25.0, 75.0))\n",
    "model.fit(X[:,0].reshape(-1,1)) \n",
    "result = model.transform(X[:,0].reshape(-1,1)).reshape(-1)\n",
    "\n",
    "# show the distribution of the entire feature\n",
    "sns.distplot(result, hist = True, kde=True, ax=ax[1])\n",
    "ax[1].set_title('Histogram of transformed distribution', fontsize=12)\n",
    "ax[1].set_xlabel('Value', fontsize=12)\n",
    "ax[1].set_ylabel('Frequency', fontsize=12); # the distribution is the same, but scales change\n",
    "fig.tight_layout() "
   ]
  },
  {
   "cell_type": "markdown",
   "metadata": {},
   "source": [
    "#### Power Transform (Non-linear transformation)"
   ]
  },
  {
   "cell_type": "markdown",
   "metadata": {},
   "source": [
    "All the above scaling methods keep the original distribution. But normality is an important assumption for many statistical models. We can use Power Transform to convert original distribution into normal distribution. "
   ]
  },
  {
   "cell_type": "markdown",
   "metadata": {},
   "source": [
    "##### Box-Cox transformation"
   ]
  },
  {
   "cell_type": "markdown",
   "metadata": {},
   "source": [
    "Box-Cox transformation only works for positive numbers and assumes the below distribution:  \n",
    "$x_i(\\lambda) = \\left\\{\\begin{matrix}\n",
    " \\frac{x_i^\\lambda - 1}{\\lambda}& if \\lambda \\neq 0\\\\ \n",
    " log(\\lambda)& if \\lambda =  0\n",
    "\\end{matrix}\\right.$  \n",
    "All values of λ are considered and the optimal value which stabilize variance and mimimize skewness will be selected through MLE. "
   ]
  },
  {
   "cell_type": "code",
   "execution_count": 14,
   "metadata": {
    "ExecuteTime": {
     "end_time": "2020-01-07T16:51:02.213506Z",
     "start_time": "2020-01-07T16:51:02.190039Z"
    }
   },
   "outputs": [],
   "source": [
    "from sklearn.preprocessing import PowerTransformer\n",
    "\n",
    "# in order to mimic the operation in real-world, we shall fit the RobustScaler\n",
    "# on the trainset and transform the testset\n",
    "# we take the top ten samples in the first column as train set\n",
    "# take the rest samples in the first column as test set\n",
    "\n",
    "test_set = X[0:10,0]\n",
    "# return array([8.3252, 8.3014, 7.2574, 5.6431, 3.8462, 4.0368, 3.6591, 3.12, 2.0804, 3.6912])\n",
    "train_set = X[10:,0]\n",
    "\n",
    "model = PowerTransformer(method='box-cox', standardize=True)\n",
    "# apply box-cox transformation\n",
    "\n",
    "model.fit(train_set.reshape(-1,1)) # fit on the train set and transform the test set\n",
    "# top ten numbers for simplification\n",
    "result = model.transform(test_set.reshape(-1,1)).reshape(-1)\n",
    "# return array([ 1.91669292,  1.91009687,  1.60235867,  1.0363095 ,  0.19831579,\n",
    "# 0.30244247,  0.09143411, -0.24694006, -1.08558469,  0.11011933])"
   ]
  },
  {
   "cell_type": "code",
   "execution_count": 15,
   "metadata": {
    "ExecuteTime": {
     "end_time": "2020-01-07T16:51:03.349174Z",
     "start_time": "2020-01-07T16:51:02.786301Z"
    }
   },
   "outputs": [
    {
     "data": {
      "image/png": "[encoded data removed]",
      "text/plain": [
       "<Figure size 936x648 with 2 Axes>"
      ]
     },
     "metadata": {
      "needs_background": "light"
     },
     "output_type": "display_data"
    }
   ],
   "source": [
    "# visualize the distribution after the scaling\n",
    "# fit and transform the entire first feature\n",
    "\n",
    "import seaborn as sns\n",
    "import matplotlib.pyplot as plt\n",
    "\n",
    "fig, ax = plt.subplots(2,1, figsize = (13,9))\n",
    "sns.distplot(X[:,0], hist = True, kde=True, ax=ax[0])\n",
    "ax[0].set_title('Histogram of original distribution', fontsize=12)\n",
    "ax[0].set_xlabel('Value', fontsize=12)\n",
    "ax[0].set_ylabel('Frequency', fontsize=12); # this feature has long-tail distribution\n",
    "\n",
    "model = PowerTransformer(method='box-cox', standardize=True)\n",
    "model.fit(X[:,0].reshape(-1,1)) \n",
    "result = model.transform(X[:,0].reshape(-1,1)).reshape(-1)\n",
    "\n",
    "# show the distribution of the entire feature\n",
    "sns.distplot(result, hist = True, kde=True, ax=ax[1])\n",
    "ax[1].set_title('Histogram of transformed distribution', fontsize=12)\n",
    "ax[1].set_xlabel('Value', fontsize=12)\n",
    "ax[1].set_ylabel('Frequency', fontsize=12); # the distribution now becomes normal\n",
    "fig.tight_layout() "
   ]
  },
  {
   "cell_type": "markdown",
   "metadata": {},
   "source": [
    "##### Yeo-Johnson  transformation"
   ]
  },
  {
   "cell_type": "markdown",
   "metadata": {},
   "source": [
    "Yeo-Johnson transformation works for both positive & negative numbers and assumes the below distribution:  \n",
    "$x_i(\\lambda) = \\left\\{\\begin{matrix}\n",
    "\\frac{[(x_i + 1)^{\\lambda} -1]}{\\lambda} & if \\, \\, \\lambda\\neq 0, x_i \\geq  0 \\\\ \n",
    "ln(x_i + 1) & if \\, \\, \\lambda =  0, x_i \\geq  0\\\\ \n",
    "-\\frac{[(-x_i + 1)^{2- \\lambda} -1]}{2-\\lambda} & if \\, \\, \\lambda\\neq 2, x_i <  0 \\\\ \n",
    "-ln(-x_i + 1) & if \\, \\, \\lambda =  2, x_i <  0\\\\ \n",
    "\\end{matrix}\\right.$  \n",
    "All values of λ are considered and the optimal value which stabilize variance and mimimize skewness will be selected through MLE. "
   ]
  },
  {
   "cell_type": "code",
   "execution_count": 16,
   "metadata": {
    "ExecuteTime": {
     "end_time": "2020-01-07T16:51:04.740655Z",
     "start_time": "2020-01-07T16:51:04.715954Z"
    }
   },
   "outputs": [],
   "source": [
    "from sklearn.preprocessing import PowerTransformer\n",
    "\n",
    "# in order to mimic the operation in real-world, we shall fit the RobustScaler\n",
    "# on the trainset and transform the testset\n",
    "# we take the top ten samples in the first column as train set\n",
    "# take the rest samples in the first column as test set\n",
    "\n",
    "test_set = X[0:10,0]\n",
    "# return array([8.3252, 8.3014, 7.2574, 5.6431, 3.8462, 4.0368, 3.6591, 3.12, 2.0804, 3.6912])\n",
    "train_set = X[10:,0]\n",
    "\n",
    "model = PowerTransformer(method='yeo-johnson', standardize=True)\n",
    "# apply box-cox transformation\n",
    "\n",
    "model.fit(train_set.reshape(-1,1)) # fit on the train set and transform the test set\n",
    "# top ten numbers for simplification\n",
    "result = model.transform(test_set.reshape(-1,1)).reshape(-1)\n",
    "# return array([ 1.90367888,  1.89747091,  1.604735  ,  1.05166306,  0.20617221,\n",
    "# 0.31245176,  0.09685566, -0.25011726, -1.10512438,  0.11598074])"
   ]
  },
  {
   "cell_type": "code",
   "execution_count": 17,
   "metadata": {
    "ExecuteTime": {
     "end_time": "2020-01-07T16:51:07.373911Z",
     "start_time": "2020-01-07T16:51:06.801282Z"
    }
   },
   "outputs": [
    {
     "data": {
      "image/png": "[encoded data removed]",
      "text/plain": [
       "<Figure size 936x648 with 2 Axes>"
      ]
     },
     "metadata": {
      "needs_background": "light"
     },
     "output_type": "display_data"
    }
   ],
   "source": [
    "# visualize the distribution after the scaling\n",
    "# fit and transform the entire first feature\n",
    "\n",
    "import seaborn as sns\n",
    "import matplotlib.pyplot as plt\n",
    "\n",
    "fig, ax = plt.subplots(2,1, figsize = (13,9))\n",
    "sns.distplot(X[:,0], hist = True, kde=True, ax=ax[0])\n",
    "ax[0].set_title('Histogram of original distribution', fontsize=12)\n",
    "ax[0].set_xlabel('Value', fontsize=12)\n",
    "ax[0].set_ylabel('Frequency', fontsize=12); # this feature has long-tail distribution\n",
    "\n",
    "model = PowerTransformer(method='yeo-johnson', standardize=True)\n",
    "model.fit(X[:,0].reshape(-1,1)) \n",
    "result = model.transform(X[:,0].reshape(-1,1)).reshape(-1)\n",
    "\n",
    "# show the distribution of the entire feature\n",
    "sns.distplot(result, hist = True, kde=True, ax=ax[1])\n",
    "ax[1].set_title('Histogram of transformed distribution', fontsize=12)\n",
    "ax[1].set_xlabel('Value', fontsize=12)\n",
    "ax[1].set_ylabel('Frequency', fontsize=12); # the distribution now becomes normal\n",
    "fig.tight_layout() "
   ]
  },
  {
   "cell_type": "markdown",
   "metadata": {},
   "source": [
    "### Normalization"
   ]
  },
  {
   "cell_type": "markdown",
   "metadata": {},
   "source": [
    "All the above scaling methods are column-wise operations. But normalization works on each row, it tries to \"scale\" each individual samples to have unit norm. Since normalization works on each rows, it will distort the relationships between features so it is not commonly seen. But normalization method is quite useful in text classification and clustering contexts. "
   ]
  },
  {
   "cell_type": "markdown",
   "metadata": {},
   "source": [
    "Suppose X[i][j] represent the value of feature j in sample i.  \n",
    "Formula for L1 Norm: $X[i][j] = \\frac{X[i][j]}{\\sum_{j=1|X[i][j]|}}$  \n",
    "Formula for L2 Norm: $X[i][j] = \\frac{X[i][j]}{\\sqrt{\\sum_{j=1}X[i][j]^2}}$  "
   ]
  },
  {
   "cell_type": "markdown",
   "metadata": {
    "cell_style": "center"
   },
   "source": [
    "##### L1 Normalization"
   ]
  },
  {
   "cell_type": "code",
   "execution_count": 18,
   "metadata": {
    "ExecuteTime": {
     "end_time": "2020-01-07T16:51:10.614294Z",
     "start_time": "2020-01-07T16:51:10.609202Z"
    },
    "cell_style": "center"
   },
   "outputs": [],
   "source": [
    "from sklearn.preprocessing import Normalizer\n",
    "\n",
    "# Normalizer performs operation on each row independently\n",
    "# So we just need to fit and transform train set and test set independently\n",
    "\n",
    "###### for L1 Norm\n",
    "sample_columns = X[0:2,0:3] # select the first three features\n",
    "# return array([[ 8.3252, 41., 6.98412698],\n",
    "# [ 8.3014 , 21.,  6.23813708]])\n",
    "\n",
    "model = Normalizer(norm='l1')\n",
    "# use L1 Norm to normalize each samples\n",
    "\n",
    "model.fit(sample_columns) \n",
    "\n",
    "result = model.transform(sample_columns)\n",
    "# return array([[0.14784762, 0.72812094, 0.12403144],\n",
    "# [0.23358211, 0.59089121, 0.17552668]])\n",
    "# result = sample_columns/np.sum(np.abs(sample_columns), axis=1).reshape(-1,1)"
   ]
  },
  {
   "cell_type": "markdown",
   "metadata": {
    "cell_style": "center"
   },
   "source": [
    "##### L2 Normalization"
   ]
  },
  {
   "cell_type": "code",
   "execution_count": 19,
   "metadata": {
    "ExecuteTime": {
     "end_time": "2020-01-07T16:51:11.300258Z",
     "start_time": "2020-01-07T16:51:11.295911Z"
    },
    "cell_style": "center"
   },
   "outputs": [],
   "source": [
    "###### for L2 Norm\n",
    "sample_columns = X[0:2,0:3] # select the first three features\n",
    "# return array([[ 8.3252, 41., 6.98412698],\n",
    "# [ 8.3014 , 21.,  6.23813708]])\n",
    "\n",
    "model = Normalizer(norm='l2')\n",
    "# use L2 Norm to normalize each samples\n",
    "\n",
    "model.fit(sample_columns) \n",
    "\n",
    "result = model.transform(sample_columns)\n",
    "# return array([[0.19627663, 0.96662445, 0.16465922],\n",
    "# [0.35435076, 0.89639892, 0.26627902]])\n",
    "# result = sample_columns/np.sqrt(np.sum(sample_columns**2, axis=1)).reshape(-1,1)"
   ]
  },
  {
   "cell_type": "code",
   "execution_count": 22,
   "metadata": {
    "ExecuteTime": {
     "end_time": "2020-01-07T16:52:11.025844Z",
     "start_time": "2020-01-07T16:52:10.174126Z"
    }
   },
   "outputs": [
    {
     "data": {
      "image/png": "[encoded data removed]",
      "text/plain": [
       "<Figure size 936x648 with 2 Axes>"
      ]
     },
     "metadata": {
      "needs_background": "light"
     },
     "output_type": "display_data"
    }
   ],
   "source": [
    "# visualize the distribution between RobustScaler & Normalization\n",
    "# fit and transform the entire first & second feature\n",
    "\n",
    "import seaborn as sns\n",
    "import matplotlib.pyplot as plt\n",
    "\n",
    "# RobustScaler\n",
    "fig, ax = plt.subplots(2,1, figsize = (13,9))\n",
    "\n",
    "model = RobustScaler(with_centering = True, with_scaling = True, \n",
    "                    quantile_range = (25.0, 75.0))\n",
    "model.fit(X[:,0:2]) \n",
    "result = model.transform(X[:,0:2])\n",
    "\n",
    "sns.scatterplot(result[:,0], result[:,1], ax=ax[0])\n",
    "ax[0].set_title('Scatter Plot of RobustScaling result', fontsize=12)\n",
    "ax[0].set_xlabel('Feature 1', fontsize=12)\n",
    "ax[0].set_ylabel('Feature 2', fontsize=12);\n",
    "\n",
    "model = Normalizer(norm='l2')\n",
    "\n",
    "model.fit(X[:,0:2]) \n",
    "result = model.transform(X[:,0:2])\n",
    "\n",
    "sns.scatterplot(result[:,0], result[:,1], ax=ax[1])\n",
    "ax[1].set_title('Scatter Plot of Normalization result', fontsize=12)\n",
    "ax[1].set_xlabel('Feature 1', fontsize=12)\n",
    "ax[1].set_ylabel('Feature 2', fontsize=12);\n",
    "fig.tight_layout()  # Normalization distort the original distribution"
   ]
  },
  {
   "cell_type": "markdown",
   "metadata": {},
   "source": [
    "### Imputation of missing values"
   ]
  },
  {
   "cell_type": "markdown",
   "metadata": {},
   "source": [
    "In real practice, the dataset might have missing values in them. However, such datasets with sparsity are incompatible with most of the scikit-learn models which assume that all features are numerical without missing values. So before applying scikit-learn models, we need to impute the missing values.  \n",
    "\n",
    "But now, some new models such as XGboost, LightGBM and Catboost implementing in other packages, provide support for the missing values in the dataset. So before applying these models, we are no longer required to fill the missing values in the dataset.  "
   ]
  },
  {
   "cell_type": "markdown",
   "metadata": {},
   "source": [
    "#### Univariate feature imputation"
   ]
  },
  {
   "cell_type": "markdown",
   "metadata": {},
   "source": [
    "Suppose we have missing values in the ith column, then we will impute them with a constant, or using the statistics (average, median or mode) of the ith column.  "
   ]
  },
  {
   "cell_type": "code",
   "execution_count": 23,
   "metadata": {
    "ExecuteTime": {
     "end_time": "2020-01-07T16:52:46.979208Z",
     "start_time": "2020-01-07T16:52:46.971526Z"
    }
   },
   "outputs": [],
   "source": [
    "from sklearn.impute import SimpleImputer\n",
    "\n",
    "test_set = X[0:10,0].copy() # no missing values\n",
    "# return array([8.3252, 8.3014, 7.2574, 5.6431, 3.8462, 4.0368, 3.6591, 3.12, 2.0804, 3.6912])\n",
    "\n",
    "# manully create some missing values\n",
    "test_set[3] = np.nan\n",
    "test_set[6] = np.nan\n",
    "# now sample_columns becomes \n",
    "# array([8.3252, 8.3014, 7.2574,    nan, 3.8462, 4.0368,    nan, 3.12 ,2.0804, 3.6912])\n",
    "\n",
    "# create the test samples\n",
    "# in real-world, we should fit the imputer on train set and tranform the test set.\n",
    "train_set = X[10:,0].copy()\n",
    "train_set[3] = np.nan\n",
    "train_set[6] = np.nan\n",
    "\n",
    "imputer = SimpleImputer(missing_values=np.nan, strategy='mean') # use mean\n",
    "# we can set the strategy to 'mean', 'median', 'most_frequent', 'constant'\n",
    "imputer.fit(train_set.reshape(-1,1))\n",
    "result = imputer.transform(test_set.reshape(-1,1)).reshape(-1)\n",
    "# return array([8.3252    , 8.3014    , 7.2574    , 3.87023658, 3.8462    ,\n",
    "# 4.0368    , 3.87023658, 3.12      , 2.0804    , 3.6912    ])\n",
    "# all missing values are imputed with 3.87023658\n",
    "# 3.87023658 = np.nanmean(train_set) \n",
    "# which is the mean of the trainset ignoring missing values"
   ]
  },
  {
   "cell_type": "markdown",
   "metadata": {
    "ExecuteTime": {
     "end_time": "2020-01-07T16:53:20.341003Z",
     "start_time": "2020-01-07T16:53:20.336057Z"
    }
   },
   "source": [
    "#### Multivariate feature imputation"
   ]
  },
  {
   "cell_type": "markdown",
   "metadata": {},
   "source": [
    "Multivariate feature imputation use the information from the entire dataset to estimate and impute the missing values. In scikit-learn, it implements it in an iterated round-robin fashion.  \n",
    "  \n",
    "\"In each step, a feature column is designated as output y and the other feature columns are treated as inputs X. A regressor is fit on (X, y) for known y. Then, the regressor is used to predict the missing values of y. This is done for each feature in an iterative fashion, and then is repeated for max_iter imputation rounds. \" - From scikit learn official website."
   ]
  },
  {
   "cell_type": "markdown",
   "metadata": {},
   "source": [
    "##### Using Liner Models  (BayesianRidge as example)"
   ]
  },
  {
   "cell_type": "code",
   "execution_count": 39,
   "metadata": {
    "ExecuteTime": {
     "end_time": "2020-01-07T17:27:39.848462Z",
     "start_time": "2020-01-07T17:27:39.821886Z"
    }
   },
   "outputs": [],
   "source": [
    "from sklearn.experimental import enable_iterative_imputer # have to import this to enable\n",
    "# IterativeImputer\n",
    "from sklearn.impute import IterativeImputer\n",
    "from sklearn.linear_model import BayesianRidge\n",
    "\n",
    "test_set = X[0:10,:].copy() # no missing values, select all features\n",
    "# return array([8.3252, 8.3014, 7.2574, 5.6431, 3.8462, 4.0368, 3.6591, 3.12, 2.0804, 3.6912])\n",
    "\n",
    "# manully create some missing values\n",
    "test_set[3,0] = np.nan\n",
    "test_set[6,0] = np.nan\n",
    "test_set[3,1] = np.nan\n",
    "# now the first feature becomes \n",
    "# array([8.3252, 8.3014, 7.2574,    nan, 3.8462, 4.0368,    nan, 3.12 ,2.0804, 3.6912])\n",
    "\n",
    "# create the test samples\n",
    "# in real-world, we should fit the imputer on train set and tranform the test set.\n",
    "train_set = X[10:,:].copy()\n",
    "train_set[3,0] = np.nan\n",
    "train_set[6,0] = np.nan\n",
    "train_set[3,1] = np.nan\n",
    "\n",
    "impute_estimator = BayesianRidge()\n",
    "imputer = IterativeImputer(max_iter = 10, \n",
    "                           random_state = 0, \n",
    "                           estimator = impute_estimator)\n",
    "\n",
    "imputer.fit(train_set)\n",
    "result = imputer.transform(test_set)[:,0]\n",
    "# return array([8.3252    , 8.3014    , 7.2574    , 4.6237195 , 3.8462    ,\n",
    "# 4.0368    , 4.00258149, 3.12      , 2.0804    , 3.6912    ])"
   ]
  },
  {
   "cell_type": "markdown",
   "metadata": {
    "ExecuteTime": {
     "end_time": "2020-01-07T17:27:44.194064Z",
     "start_time": "2020-01-07T17:27:44.188925Z"
    }
   },
   "source": [
    "##### Using Tree-Based Models  (ExtraTrees as an example)"
   ]
  },
  {
   "cell_type": "code",
   "execution_count": 41,
   "metadata": {
    "ExecuteTime": {
     "end_time": "2020-01-07T17:30:35.499119Z",
     "start_time": "2020-01-07T17:30:34.760531Z"
    }
   },
   "outputs": [],
   "source": [
    "from sklearn.experimental import enable_iterative_imputer # have to import this to enable\n",
    "# IterativeImputer\n",
    "from sklearn.impute import IterativeImputer\n",
    "from sklearn.ensemble import ExtraTreesRegressor\n",
    "\n",
    "test_set = X[0:10,:].copy() # no missing values, select all features\n",
    "# return array([8.3252, 8.3014, 7.2574, 5.6431, 3.8462, 4.0368, 3.6591, 3.12, 2.0804, 3.6912])\n",
    "\n",
    "# manully create some missing values\n",
    "test_set[3,0] = np.nan\n",
    "test_set[6,0] = np.nan\n",
    "test_set[3,1] = np.nan\n",
    "# now the first feature becomes \n",
    "# array([8.3252, 8.3014, 7.2574,    nan, 3.8462, 4.0368,    nan, 3.12 ,2.0804, 3.6912])\n",
    "\n",
    "# create the test samples\n",
    "# in real-world, we should fit the imputer on train set and tranform the test set.\n",
    "train_set = X[10:,:].copy()\n",
    "train_set[3,0] = np.nan\n",
    "train_set[6,0] = np.nan\n",
    "train_set[3,1] = np.nan\n",
    "\n",
    "impute_estimator = ExtraTreesRegressor(n_estimators=10, random_state=0)\n",
    "# parameters can be turned in CV\n",
    "imputer = IterativeImputer(max_iter = 10, \n",
    "                           random_state = 0, \n",
    "                           estimator = impute_estimator)\n",
    "\n",
    "imputer.fit(train_set)\n",
    "result = imputer.transform(test_set)[:,0]\n",
    "# return array([8.3252 , 8.3014 , 7.2574 , 4.63813, 3.8462 , 4.0368 , 3.24721,\n",
    "# 3.12   , 2.0804 , 3.6912 ])"
   ]
  },
  {
   "cell_type": "markdown",
   "metadata": {
    "ExecuteTime": {
     "end_time": "2020-01-07T17:30:41.211593Z",
     "start_time": "2020-01-07T17:30:41.206774Z"
    }
   },
   "source": [
    "##### Using K-Nearest Neighbors (KNN)"
   ]
  },
  {
   "cell_type": "code",
   "execution_count": 47,
   "metadata": {
    "ExecuteTime": {
     "end_time": "2020-01-07T17:37:27.984461Z",
     "start_time": "2020-01-07T17:37:27.948269Z"
    }
   },
   "outputs": [],
   "source": [
    "from sklearn.experimental import enable_iterative_imputer # have to import this to enable\n",
    "# IterativeImputer\n",
    "from sklearn.impute import IterativeImputer\n",
    "from sklearn.neighbors import KNeighborsRegressor\n",
    "\n",
    "test_set = X[0:10,:].copy() # no missing values, select all features\n",
    "# return array([8.3252, 8.3014, 7.2574, 5.6431, 3.8462, 4.0368, 3.6591, 3.12, 2.0804, 3.6912])\n",
    "\n",
    "# manully create some missing values\n",
    "test_set[3,0] = np.nan\n",
    "test_set[6,0] = np.nan\n",
    "test_set[3,1] = np.nan\n",
    "# now the first feature becomes \n",
    "# array([8.3252, 8.3014, 7.2574,    nan, 3.8462, 4.0368,    nan, 3.12 ,2.0804, 3.6912])\n",
    "\n",
    "# create the test samples\n",
    "# in real-world, we should fit the imputer on train set and tranform the test set.\n",
    "train_set = X[10:,:].copy()\n",
    "train_set[3,0] = np.nan\n",
    "train_set[6,0] = np.nan\n",
    "train_set[3,1] = np.nan\n",
    "\n",
    "impute_estimator = KNeighborsRegressor(n_neighbors=10, \n",
    "                                       p = 1)  # set p=1 to use manhanttan distance\n",
    "# use manhanttan distance to reduce effect from outliers\n",
    "\n",
    "# parameters can be turned in CV\n",
    "imputer = IterativeImputer(max_iter = 10, \n",
    "                           random_state = 0, \n",
    "                           estimator = impute_estimator)\n",
    "\n",
    "imputer.fit(train_set)\n",
    "result = imputer.transform(test_set)[:,0]\n",
    "# return array([8.3252, 8.3014, 7.2574, 3.6978, 3.8462, 4.0368, 4.052 , 3.12  ,\n",
    "# 2.0804, 3.6912])"
   ]
  },
  {
   "cell_type": "markdown",
   "metadata": {},
   "source": [
    "#### Marking imputed values"
   ]
  },
  {
   "cell_type": "markdown",
   "metadata": {},
   "source": [
    "Sometimes the information about which values had been missing can be informative.  \n",
    "So scikit-learn also provide the function to transform a dataset with missing values into corresponding binary matrix indicating the presence of missing values in the dataset. "
   ]
  },
  {
   "cell_type": "code",
   "execution_count": 62,
   "metadata": {
    "ExecuteTime": {
     "end_time": "2020-01-07T21:35:44.934159Z",
     "start_time": "2020-01-07T21:35:44.925723Z"
    }
   },
   "outputs": [],
   "source": [
    "from sklearn.impute import MissingIndicator\n",
    "\n",
    "# illustrate this function on trainset only\n",
    "train_set = X[10:,:].copy() # select all features\n",
    "train_set[3,0] = np.nan # manully create some missing values\n",
    "train_set[6,0] = np.nan\n",
    "train_set[3,1] = np.nan\n",
    "\n",
    "indicator = MissingIndicator(missing_values=np.nan, features='all') # show the results on all \n",
    "# the features\n",
    "result = indicator.fit_transform(train_set) # result have the same shape with train_set\n",
    "# contains only True & False, True corresponds with missing value\n",
    "\n",
    "result[:,0].sum() # should return 2, the first column has two missing values\n",
    "result[:,1].sum(); # should return 1, the second column has one missing value"
   ]
  },
  {
   "cell_type": "markdown",
   "metadata": {},
   "source": [
    "### Feature Transformation"
   ]
  },
  {
   "cell_type": "markdown",
   "metadata": {},
   "source": [
    "#### Polynomial Transformation"
   ]
  },
  {
   "cell_type": "markdown",
   "metadata": {},
   "source": [
    "Sometimes we want to introduce nonlinear features into the model therefore increase complexity in the model. For simple linear models, this will increase the model complexity a lot. But for more complex model such as tree-based ML models, they already include nonlinear relationships in their non-parametric tree structures. Therefore, this feature transformation might not be that helpful for tree-based ML models."
   ]
  },
  {
   "cell_type": "markdown",
   "metadata": {},
   "source": [
    "For example, if we set the degree to 3 and include not only internaction term (below example).  \n",
    "Then $(X_1, X_2) => (1, X_1, X_2, X_1^2, X_1X_2, X_2^2, X_1^3, X_1^2X_2, X_1X_2^2, X_2^3)$"
   ]
  },
  {
   "cell_type": "code",
   "execution_count": 116,
   "metadata": {
    "ExecuteTime": {
     "end_time": "2020-01-07T22:27:33.704586Z",
     "start_time": "2020-01-07T22:27:33.700454Z"
    }
   },
   "outputs": [],
   "source": [
    "from sklearn.preprocessing import PolynomialFeatures\n",
    "\n",
    "# illustrate this function on one synthesized sample only\n",
    "train_set = np.array([2,3]).reshape(1,-1) # shape (1,2)\n",
    "# return array([[2, 3]])\n",
    "\n",
    "poly = PolynomialFeatures(degree = 3, interaction_only = False)\n",
    "# the highest degree is set to 3, and we not only want intereaction term\n",
    "\n",
    "result = poly.fit_transform(train_set) # have shape (1, 10)\n",
    "# array([[ 1.,  2.,  3.,  4.,  6.,  9.,  8., 12., 18., 27.]])"
   ]
  },
  {
   "cell_type": "markdown",
   "metadata": {},
   "source": [
    "#### Custom Transformation"
   ]
  },
  {
   "cell_type": "code",
   "execution_count": 121,
   "metadata": {
    "ExecuteTime": {
     "end_time": "2020-01-07T22:32:06.748052Z",
     "start_time": "2020-01-07T22:32:06.743962Z"
    }
   },
   "outputs": [],
   "source": [
    "from sklearn.preprocessing import FunctionTransformer\n",
    "\n",
    "# illustrate this function on one synthesized sample only\n",
    "train_set = np.array([2,3]).reshape(1,-1) # shape (1,2)\n",
    "# return array([[2, 3]])\n",
    "\n",
    "transformer = FunctionTransformer(func = np.log1p, validate=True)\n",
    "# perform log transformation, X' = log(1 + x)\n",
    "# func can be any numpy function such as np.exp\n",
    "result = transformer.transform(train_set)\n",
    "# return array([[1.09861229, 1.38629436]]), the same as np.log1p(train_set)"
   ]
  },
  {
   "cell_type": "markdown",
   "metadata": {},
   "source": [
    "## Static Categorical Variables"
   ]
  },
  {
   "cell_type": "markdown",
   "metadata": {},
   "source": [
    "In real world, it is often that datasets include categorical features. But since models in scikit-learn can only handle numeric features, so we need to encode categorical features into continuous features. However, many new models such as lightGBM &Catboost implemented in other packages can directly support categorical features. Here we use category_encoders package since it covers one encoding methods."
   ]
  },
  {
   "cell_type": "markdown",
   "metadata": {},
   "source": [
    "### Ordinal Encoding"
   ]
  },
  {
   "cell_type": "markdown",
   "metadata": {},
   "source": [
    "Ordinal Encodingtransforms each categorical feature to one new feature of integers (1 to n_categories). "
   ]
  },
  {
   "cell_type": "code",
   "execution_count": 234,
   "metadata": {
    "ExecuteTime": {
     "end_time": "2020-01-08T15:53:24.628312Z",
     "start_time": "2020-01-08T15:53:24.621678Z"
    }
   },
   "outputs": [],
   "source": [
    "import pandas as pd\n",
    "from category_encoders import OrdinalEncoder\n",
    "# category_encoders package directly support dataframe\n",
    "\n",
    "# create some train set\n",
    "train_set = pd.DataFrame(np.array([['male',10],['female', 20], ['male',10], \n",
    "                       ['female',20],['female',15]]),\n",
    "             columns = ['Sex','Type'])\n",
    "train_y = np.array([False, True, True, False, False])\n",
    "\n",
    "# create some test set, include unknown category & missing value\n",
    "test_set = pd.DataFrame(np.array([['female',20],['male', 20], ['others',15], \n",
    "                       ['male',20],['female', np.nan], ['male', 25]]),\n",
    "             columns = ['Sex','Type'])"
   ]
  },
  {
   "cell_type": "code",
   "execution_count": 235,
   "metadata": {
    "ExecuteTime": {
     "end_time": "2020-01-08T15:53:24.928788Z",
     "start_time": "2020-01-08T15:53:24.911715Z"
    }
   },
   "outputs": [
    {
     "data": {
      "text/html": [
       "<div>\n",
       "<style scoped>\n",
       "    .dataframe tbody tr th:only-of-type {\n",
       "        vertical-align: middle;\n",
       "    }\n",
       "\n",
       "    .dataframe tbody tr th {\n",
       "        vertical-align: top;\n",
       "    }\n",
       "\n",
       "    .dataframe thead th {\n",
       "        text-align: right;\n",
       "    }\n",
       "</style>\n",
       "<table border=\"1\" class=\"dataframe\">\n",
       "  <thead>\n",
       "    <tr style=\"text-align: right;\">\n",
       "      <th></th>\n",
       "      <th>Sex</th>\n",
       "      <th>Type</th>\n",
       "    </tr>\n",
       "  </thead>\n",
       "  <tbody>\n",
       "    <tr>\n",
       "      <th>0</th>\n",
       "      <td>2.0</td>\n",
       "      <td>2.0</td>\n",
       "    </tr>\n",
       "    <tr>\n",
       "      <th>1</th>\n",
       "      <td>1.0</td>\n",
       "      <td>2.0</td>\n",
       "    </tr>\n",
       "    <tr>\n",
       "      <th>2</th>\n",
       "      <td>-1.0</td>\n",
       "      <td>3.0</td>\n",
       "    </tr>\n",
       "    <tr>\n",
       "      <th>3</th>\n",
       "      <td>1.0</td>\n",
       "      <td>2.0</td>\n",
       "    </tr>\n",
       "    <tr>\n",
       "      <th>4</th>\n",
       "      <td>2.0</td>\n",
       "      <td>-1.0</td>\n",
       "    </tr>\n",
       "    <tr>\n",
       "      <th>5</th>\n",
       "      <td>1.0</td>\n",
       "      <td>-1.0</td>\n",
       "    </tr>\n",
       "  </tbody>\n",
       "</table>\n",
       "</div>"
      ],
      "text/plain": [
       "   Sex  Type\n",
       "0  2.0   2.0\n",
       "1  1.0   2.0\n",
       "2 -1.0   3.0\n",
       "3  1.0   2.0\n",
       "4  2.0  -1.0\n",
       "5  1.0  -1.0"
      ]
     },
     "execution_count": 235,
     "metadata": {},
     "output_type": "execute_result"
    }
   ],
   "source": [
    "encoder = OrdinalEncoder(cols=['Sex', 'Type']).fit(train_set,train_y) # fit on trainset\n",
    "numeric_dataset = encoder.transform(test_set) # transform the test set\n",
    "numeric_dataset\n",
    "\n",
    "# Oridnal Encoding in this case:  \n",
    "  \n",
    "# Feature Sex: 'male' => 2.0, 'female' => 1.0, unknown & missing => -1.0 \n",
    "# (it is also possible that testset have new labels)  \n",
    "  \n",
    "# Feature Type: 10 => 1.0, 20 => 2.0, 15 => 3.0, unknown & missing => -1.0  "
   ]
  },
  {
   "cell_type": "markdown",
   "metadata": {},
   "source": [
    "### One-hot Encoding"
   ]
  },
  {
   "cell_type": "markdown",
   "metadata": {},
   "source": [
    "One-hot Enconding in scikit-learn transforms categorical feature with n_categories possible values into n_categories binary features, with one of them 1, and all others 0. In category_encoders, it will create one additional feature indicating missing or unknown values. Here we continuous to use category_encoders."
   ]
  },
  {
   "cell_type": "code",
   "execution_count": 236,
   "metadata": {
    "ExecuteTime": {
     "end_time": "2020-01-08T15:53:25.761556Z",
     "start_time": "2020-01-08T15:53:25.755190Z"
    }
   },
   "outputs": [],
   "source": [
    "import pandas as pd\n",
    "from category_encoders import OrdinalEncoder\n",
    "# category_encoders package directly support dataframe\n",
    "\n",
    "# create some train set\n",
    "train_set = pd.DataFrame(np.array([['male',10],['female', 20], ['male',10], \n",
    "                       ['female',20],['female',15]]),\n",
    "             columns = ['Sex','Type'])\n",
    "train_y = np.array([False, True, True, False, False])\n",
    "\n",
    "# create some test set, include unknown category & missing value\n",
    "test_set = pd.DataFrame(np.array([['female',20],['male', 20], ['others',15], \n",
    "                       ['male',20],['female', np.nan], ['male', 25]]),\n",
    "             columns = ['Sex','Type'])"
   ]
  },
  {
   "cell_type": "code",
   "execution_count": 237,
   "metadata": {
    "ExecuteTime": {
     "end_time": "2020-01-08T15:53:26.357034Z",
     "start_time": "2020-01-08T15:53:26.325936Z"
    }
   },
   "outputs": [
    {
     "data": {
      "text/html": [
       "<div>\n",
       "<style scoped>\n",
       "    .dataframe tbody tr th:only-of-type {\n",
       "        vertical-align: middle;\n",
       "    }\n",
       "\n",
       "    .dataframe tbody tr th {\n",
       "        vertical-align: top;\n",
       "    }\n",
       "\n",
       "    .dataframe thead th {\n",
       "        text-align: right;\n",
       "    }\n",
       "</style>\n",
       "<table border=\"1\" class=\"dataframe\">\n",
       "  <thead>\n",
       "    <tr style=\"text-align: right;\">\n",
       "      <th></th>\n",
       "      <th>Sex_1</th>\n",
       "      <th>Sex_2</th>\n",
       "      <th>Sex_-1</th>\n",
       "      <th>Type_1</th>\n",
       "      <th>Type_2</th>\n",
       "      <th>Type_3</th>\n",
       "      <th>Type_-1</th>\n",
       "    </tr>\n",
       "  </thead>\n",
       "  <tbody>\n",
       "    <tr>\n",
       "      <th>0</th>\n",
       "      <td>0</td>\n",
       "      <td>1</td>\n",
       "      <td>0</td>\n",
       "      <td>0</td>\n",
       "      <td>1</td>\n",
       "      <td>0</td>\n",
       "      <td>0</td>\n",
       "    </tr>\n",
       "    <tr>\n",
       "      <th>1</th>\n",
       "      <td>1</td>\n",
       "      <td>0</td>\n",
       "      <td>0</td>\n",
       "      <td>0</td>\n",
       "      <td>1</td>\n",
       "      <td>0</td>\n",
       "      <td>0</td>\n",
       "    </tr>\n",
       "    <tr>\n",
       "      <th>2</th>\n",
       "      <td>0</td>\n",
       "      <td>0</td>\n",
       "      <td>1</td>\n",
       "      <td>0</td>\n",
       "      <td>0</td>\n",
       "      <td>1</td>\n",
       "      <td>0</td>\n",
       "    </tr>\n",
       "    <tr>\n",
       "      <th>3</th>\n",
       "      <td>1</td>\n",
       "      <td>0</td>\n",
       "      <td>0</td>\n",
       "      <td>0</td>\n",
       "      <td>1</td>\n",
       "      <td>0</td>\n",
       "      <td>0</td>\n",
       "    </tr>\n",
       "    <tr>\n",
       "      <th>4</th>\n",
       "      <td>0</td>\n",
       "      <td>1</td>\n",
       "      <td>0</td>\n",
       "      <td>0</td>\n",
       "      <td>0</td>\n",
       "      <td>0</td>\n",
       "      <td>1</td>\n",
       "    </tr>\n",
       "    <tr>\n",
       "      <th>5</th>\n",
       "      <td>1</td>\n",
       "      <td>0</td>\n",
       "      <td>0</td>\n",
       "      <td>0</td>\n",
       "      <td>0</td>\n",
       "      <td>0</td>\n",
       "      <td>1</td>\n",
       "    </tr>\n",
       "  </tbody>\n",
       "</table>\n",
       "</div>"
      ],
      "text/plain": [
       "   Sex_1  Sex_2  Sex_-1  Type_1  Type_2  Type_3  Type_-1\n",
       "0      0      1       0       0       1       0        0\n",
       "1      1      0       0       0       1       0        0\n",
       "2      0      0       1       0       0       1        0\n",
       "3      1      0       0       0       1       0        0\n",
       "4      0      1       0       0       0       0        1\n",
       "5      1      0       0       0       0       0        1"
      ]
     },
     "execution_count": 237,
     "metadata": {},
     "output_type": "execute_result"
    }
   ],
   "source": [
    "encoder = OneHotEncoder(cols=['Sex', 'Type'], \n",
    "                        handle_unknown='indicator').fit(train_set,train_y) # fit on trainset\n",
    "numeric_dataset = encoder.transform(test_set) # transform the test set\n",
    "numeric_dataset\n",
    "\n",
    "# One-hot Encoding Encoding in this case:  \n",
    "  \n",
    "# Feature Sex => 3 columns: 'male' => [0 ,1 ,0];\n",
    "#                           'female' => [1 ,0 ,0];\n",
    "#                           unknown & missing => [0 ,0 ,1];\n",
    "  \n",
    "# Feature Type => 4 columns: 10 => [1, 0, 0, 0];\n",
    "#                            20 => [0, 1, 0, 0];, \n",
    "#                            15 => [0, 0, 1, 0];\n",
    "#                            unknown & missing => [0, 0, 0, 1]; "
   ]
  },
  {
   "cell_type": "markdown",
   "metadata": {},
   "source": [
    "### Hashing Encoding"
   ]
  },
  {
   "cell_type": "markdown",
   "metadata": {},
   "source": [
    "Hashing Encoding is based on the technique known as feature hashing. It apply a hash function to the features to map data of arbitrary number of features to fixed-size features. The hash function might cause  collisions between features. The advantage of the hashing encoder is that it does not maintain a predefined dictionary of observed categories. Consequently, the encoder does not grow in size and accepts new values during data scoring by design."
   ]
  },
  {
   "cell_type": "code",
   "execution_count": 238,
   "metadata": {
    "ExecuteTime": {
     "end_time": "2020-01-08T15:53:27.158407Z",
     "start_time": "2020-01-08T15:53:27.151862Z"
    }
   },
   "outputs": [],
   "source": [
    "import pandas as pd\n",
    "from category_encoders.hashing import HashingEncoder\n",
    "# category_encoders package directly support dataframe\n",
    "\n",
    "# create some train set\n",
    "train_set = pd.DataFrame(np.array([['male',10],['female', 20], ['male',10], \n",
    "                       ['female',20],['female',15]]),\n",
    "             columns = ['Sex','Type'])\n",
    "train_y = np.array([False, True, True, False, False])\n",
    "\n",
    "# create some test set, include unknown category & missing value\n",
    "test_set = pd.DataFrame(np.array([['female',20],['male', 20], ['others',15], \n",
    "                       ['male',20],['female', np.nan], ['male', 25]]),\n",
    "             columns = ['Sex','Type'])"
   ]
  },
  {
   "cell_type": "code",
   "execution_count": 239,
   "metadata": {
    "ExecuteTime": {
     "end_time": "2020-01-08T15:53:27.726487Z",
     "start_time": "2020-01-08T15:53:27.381286Z"
    }
   },
   "outputs": [
    {
     "data": {
      "text/html": [
       "<div>\n",
       "<style scoped>\n",
       "    .dataframe tbody tr th:only-of-type {\n",
       "        vertical-align: middle;\n",
       "    }\n",
       "\n",
       "    .dataframe tbody tr th {\n",
       "        vertical-align: top;\n",
       "    }\n",
       "\n",
       "    .dataframe thead th {\n",
       "        text-align: right;\n",
       "    }\n",
       "</style>\n",
       "<table border=\"1\" class=\"dataframe\">\n",
       "  <thead>\n",
       "    <tr style=\"text-align: right;\">\n",
       "      <th></th>\n",
       "      <th>col_0</th>\n",
       "      <th>col_1</th>\n",
       "      <th>col_2</th>\n",
       "      <th>col_3</th>\n",
       "      <th>col_4</th>\n",
       "    </tr>\n",
       "  </thead>\n",
       "  <tbody>\n",
       "    <tr>\n",
       "      <th>0</th>\n",
       "      <td>1</td>\n",
       "      <td>1</td>\n",
       "      <td>0</td>\n",
       "      <td>0</td>\n",
       "      <td>0</td>\n",
       "    </tr>\n",
       "    <tr>\n",
       "      <th>1</th>\n",
       "      <td>0</td>\n",
       "      <td>1</td>\n",
       "      <td>0</td>\n",
       "      <td>0</td>\n",
       "      <td>1</td>\n",
       "    </tr>\n",
       "    <tr>\n",
       "      <th>2</th>\n",
       "      <td>0</td>\n",
       "      <td>0</td>\n",
       "      <td>0</td>\n",
       "      <td>2</td>\n",
       "      <td>0</td>\n",
       "    </tr>\n",
       "    <tr>\n",
       "      <th>3</th>\n",
       "      <td>0</td>\n",
       "      <td>1</td>\n",
       "      <td>0</td>\n",
       "      <td>0</td>\n",
       "      <td>1</td>\n",
       "    </tr>\n",
       "    <tr>\n",
       "      <th>4</th>\n",
       "      <td>1</td>\n",
       "      <td>0</td>\n",
       "      <td>1</td>\n",
       "      <td>0</td>\n",
       "      <td>0</td>\n",
       "    </tr>\n",
       "    <tr>\n",
       "      <th>5</th>\n",
       "      <td>0</td>\n",
       "      <td>0</td>\n",
       "      <td>0</td>\n",
       "      <td>0</td>\n",
       "      <td>2</td>\n",
       "    </tr>\n",
       "  </tbody>\n",
       "</table>\n",
       "</div>"
      ],
      "text/plain": [
       "   col_0  col_1  col_2  col_3  col_4\n",
       "0      1      1      0      0      0\n",
       "1      0      1      0      0      1\n",
       "2      0      0      0      2      0\n",
       "3      0      1      0      0      1\n",
       "4      1      0      1      0      0\n",
       "5      0      0      0      0      2"
      ]
     },
     "execution_count": 239,
     "metadata": {},
     "output_type": "execute_result"
    }
   ],
   "source": [
    "encoder = HashingEncoder(cols=['Sex', 'Type'], \n",
    "                         n_components = 5).fit(train_set,train_y) \n",
    "# hash the dataset with two columns into 5 columns\n",
    "# hashing encoding results has nothing to do with the content in train_set\n",
    "# we can fit the hasher on any dataset as long as the column names matches.\n",
    "# it is only deternmined by the hashing function\n",
    "\n",
    "# normally hashing encoding should be apply to higher & sparser dimensional space \n",
    "numeric_dataset = encoder.transform(test_set) # transform the test set\n",
    "numeric_dataset"
   ]
  },
  {
   "cell_type": "markdown",
   "metadata": {},
   "source": [
    "### Helmert Coding"
   ]
  },
  {
   "cell_type": "markdown",
   "metadata": {},
   "source": [
    "The Helmert Coding is commonly used in econometrics. After the Helmert Coding (Each value in the categorical feature corresponds with one row in the Helmert Matrix), the coefficient of the encoded columns in the linear model can reflect the mean of the dependent variable for a level compared with the mean of the dependent variable over all previous levels. The Helmert Coding implemented in the category_encoders package is referred to as Reverse Helmert Coding. For more reference, please check the [link](https://www.statsmodels.org/devel/contrasts.html)."
   ]
  },
  {
   "cell_type": "code",
   "execution_count": 260,
   "metadata": {
    "ExecuteTime": {
     "end_time": "2020-01-08T15:58:49.722511Z",
     "start_time": "2020-01-08T15:58:49.716194Z"
    }
   },
   "outputs": [],
   "source": [
    "import pandas as pd\n",
    "from category_encoders import HelmertEncoder\n",
    "# category_encoders package directly support dataframe\n",
    "\n",
    "# create some train set\n",
    "train_set = pd.DataFrame(np.array([['male',10],['female', 20], ['male',10], \n",
    "                       ['female',20],['female',15]]),\n",
    "             columns = ['Sex','Type'])\n",
    "train_y = np.array([False, True, True, False, False])\n",
    "\n",
    "# create some test set, include unknown category & missing value\n",
    "test_set = pd.DataFrame(np.array([['female',20],['male', 20], ['others',15], \n",
    "                       ['male',20],['female', np.nan], ['male', 25]]),\n",
    "             columns = ['Sex','Type'])"
   ]
  },
  {
   "cell_type": "code",
   "execution_count": 284,
   "metadata": {
    "ExecuteTime": {
     "end_time": "2020-01-08T16:47:02.792077Z",
     "start_time": "2020-01-08T16:47:02.760315Z"
    }
   },
   "outputs": [
    {
     "data": {
      "text/html": [
       "<div>\n",
       "<style scoped>\n",
       "    .dataframe tbody tr th:only-of-type {\n",
       "        vertical-align: middle;\n",
       "    }\n",
       "\n",
       "    .dataframe tbody tr th {\n",
       "        vertical-align: top;\n",
       "    }\n",
       "\n",
       "    .dataframe thead th {\n",
       "        text-align: right;\n",
       "    }\n",
       "</style>\n",
       "<table border=\"1\" class=\"dataframe\">\n",
       "  <thead>\n",
       "    <tr style=\"text-align: right;\">\n",
       "      <th></th>\n",
       "      <th>intercept</th>\n",
       "      <th>Sex_0</th>\n",
       "      <th>Sex_1</th>\n",
       "      <th>Sex_2</th>\n",
       "      <th>Type_0</th>\n",
       "      <th>Type_1</th>\n",
       "      <th>Type_2</th>\n",
       "      <th>Type_3</th>\n",
       "    </tr>\n",
       "  </thead>\n",
       "  <tbody>\n",
       "    <tr>\n",
       "      <th>0</th>\n",
       "      <td>1</td>\n",
       "      <td>1.0</td>\n",
       "      <td>-1.0</td>\n",
       "      <td>-1.0</td>\n",
       "      <td>1.0</td>\n",
       "      <td>-1.0</td>\n",
       "      <td>-1.0</td>\n",
       "      <td>-1.0</td>\n",
       "    </tr>\n",
       "    <tr>\n",
       "      <th>1</th>\n",
       "      <td>1</td>\n",
       "      <td>-1.0</td>\n",
       "      <td>-1.0</td>\n",
       "      <td>-1.0</td>\n",
       "      <td>1.0</td>\n",
       "      <td>-1.0</td>\n",
       "      <td>-1.0</td>\n",
       "      <td>-1.0</td>\n",
       "    </tr>\n",
       "    <tr>\n",
       "      <th>2</th>\n",
       "      <td>1</td>\n",
       "      <td>0.0</td>\n",
       "      <td>0.0</td>\n",
       "      <td>3.0</td>\n",
       "      <td>0.0</td>\n",
       "      <td>2.0</td>\n",
       "      <td>-1.0</td>\n",
       "      <td>-1.0</td>\n",
       "    </tr>\n",
       "    <tr>\n",
       "      <th>3</th>\n",
       "      <td>1</td>\n",
       "      <td>-1.0</td>\n",
       "      <td>-1.0</td>\n",
       "      <td>-1.0</td>\n",
       "      <td>1.0</td>\n",
       "      <td>-1.0</td>\n",
       "      <td>-1.0</td>\n",
       "      <td>-1.0</td>\n",
       "    </tr>\n",
       "    <tr>\n",
       "      <th>4</th>\n",
       "      <td>1</td>\n",
       "      <td>1.0</td>\n",
       "      <td>-1.0</td>\n",
       "      <td>-1.0</td>\n",
       "      <td>0.0</td>\n",
       "      <td>0.0</td>\n",
       "      <td>0.0</td>\n",
       "      <td>4.0</td>\n",
       "    </tr>\n",
       "    <tr>\n",
       "      <th>5</th>\n",
       "      <td>1</td>\n",
       "      <td>-1.0</td>\n",
       "      <td>-1.0</td>\n",
       "      <td>-1.0</td>\n",
       "      <td>0.0</td>\n",
       "      <td>0.0</td>\n",
       "      <td>0.0</td>\n",
       "      <td>4.0</td>\n",
       "    </tr>\n",
       "  </tbody>\n",
       "</table>\n",
       "</div>"
      ],
      "text/plain": [
       "   intercept  Sex_0  Sex_1  Sex_2  Type_0  Type_1  Type_2  Type_3\n",
       "0          1    1.0   -1.0   -1.0     1.0    -1.0    -1.0    -1.0\n",
       "1          1   -1.0   -1.0   -1.0     1.0    -1.0    -1.0    -1.0\n",
       "2          1    0.0    0.0    3.0     0.0     2.0    -1.0    -1.0\n",
       "3          1   -1.0   -1.0   -1.0     1.0    -1.0    -1.0    -1.0\n",
       "4          1    1.0   -1.0   -1.0     0.0     0.0     0.0     4.0\n",
       "5          1   -1.0   -1.0   -1.0     0.0     0.0     0.0     4.0"
      ]
     },
     "execution_count": 284,
     "metadata": {},
     "output_type": "execute_result"
    }
   ],
   "source": [
    "encoder = HelmertEncoder(cols=['Sex','Type'], \n",
    "                         handle_unknown='indicator', \n",
    "                         handle_missing='indicator').fit(train_set,train_y) # fit on trainset\n",
    "# handle_unknown is set to 'indicator', additional column indicating unknown or missing will\n",
    "# be added\n",
    "\n",
    "numeric_dataset = encoder.transform(test_set) # transform the test set\n",
    "numeric_dataset \n",
    "\n",
    "# the encoding Helmert Matrix is the same as using patsy package\n",
    "# illustrate the encoding schema for Sex features\n",
    "\n",
    "# from patsy.contrasts import Helmert\n",
    "# levels = [1,2,3,4] # we have 3 different values, each with one level, and also one \n",
    "# # additional level for the missing & unknown value\n",
    "# contrast = Helmert().code_with_intercept(levels)\n",
    "# print(contrast.matrix) \n",
    "# # each row in the matrix corresponds with each of the \n",
    "# # 3 different values and the missing or unknow value)\n",
    "\n",
    "# [[ 1. -1. -1. -1.]\n",
    "#  [ 1.  1. -1. -1.]\n",
    "#  [ 1.  0.  2. -1.]\n",
    "#  [ 1.  0.  0.  3.]]"
   ]
  },
  {
   "cell_type": "markdown",
   "metadata": {},
   "source": [
    "### Sum (Deviation) Coding"
   ]
  },
  {
   "cell_type": "markdown",
   "metadata": {},
   "source": [
    "The Sum Coding is also commonly used in econometrics. After the Sum Coding, the coefficient of the encoded columns in the linear model can reflect the mean of the dependent variable for a given level compared with the overall mean of the dependent variable over all the levels. For more reference, please check the [link](https://www.statsmodels.org/devel/contrasts.html)."
   ]
  },
  {
   "cell_type": "code",
   "execution_count": 292,
   "metadata": {
    "ExecuteTime": {
     "end_time": "2020-01-08T20:49:30.218103Z",
     "start_time": "2020-01-08T20:49:30.212514Z"
    }
   },
   "outputs": [],
   "source": [
    "import pandas as pd\n",
    "from category_encoders.sum_coding import SumEncoder\n",
    "# category_encoders package directly support dataframe\n",
    "\n",
    "# create some train set\n",
    "train_set = pd.DataFrame(np.array([['male',10],['female', 20], ['male',10], \n",
    "                       ['female',20],['female',15]]),\n",
    "             columns = ['Sex','Type'])\n",
    "train_y = np.array([False, True, True, False, False])\n",
    "\n",
    "# create some test set, include unknown category & missing value\n",
    "test_set = pd.DataFrame(np.array([['female',20],['male', 20], ['others',15], \n",
    "                       ['male',20],['female', np.nan], ['male', 25]]),\n",
    "             columns = ['Sex','Type'])"
   ]
  },
  {
   "cell_type": "code",
   "execution_count": 293,
   "metadata": {
    "ExecuteTime": {
     "end_time": "2020-01-08T20:49:42.728900Z",
     "start_time": "2020-01-08T20:49:42.696971Z"
    }
   },
   "outputs": [
    {
     "data": {
      "text/html": [
       "<div>\n",
       "<style scoped>\n",
       "    .dataframe tbody tr th:only-of-type {\n",
       "        vertical-align: middle;\n",
       "    }\n",
       "\n",
       "    .dataframe tbody tr th {\n",
       "        vertical-align: top;\n",
       "    }\n",
       "\n",
       "    .dataframe thead th {\n",
       "        text-align: right;\n",
       "    }\n",
       "</style>\n",
       "<table border=\"1\" class=\"dataframe\">\n",
       "  <thead>\n",
       "    <tr style=\"text-align: right;\">\n",
       "      <th></th>\n",
       "      <th>intercept</th>\n",
       "      <th>Sex_0</th>\n",
       "      <th>Sex_1</th>\n",
       "      <th>Sex_2</th>\n",
       "      <th>Type_0</th>\n",
       "      <th>Type_1</th>\n",
       "      <th>Type_2</th>\n",
       "      <th>Type_3</th>\n",
       "    </tr>\n",
       "  </thead>\n",
       "  <tbody>\n",
       "    <tr>\n",
       "      <th>0</th>\n",
       "      <td>1</td>\n",
       "      <td>0.0</td>\n",
       "      <td>1.0</td>\n",
       "      <td>0.0</td>\n",
       "      <td>0.0</td>\n",
       "      <td>1.0</td>\n",
       "      <td>0.0</td>\n",
       "      <td>0.0</td>\n",
       "    </tr>\n",
       "    <tr>\n",
       "      <th>1</th>\n",
       "      <td>1</td>\n",
       "      <td>1.0</td>\n",
       "      <td>0.0</td>\n",
       "      <td>0.0</td>\n",
       "      <td>0.0</td>\n",
       "      <td>1.0</td>\n",
       "      <td>0.0</td>\n",
       "      <td>0.0</td>\n",
       "    </tr>\n",
       "    <tr>\n",
       "      <th>2</th>\n",
       "      <td>1</td>\n",
       "      <td>-1.0</td>\n",
       "      <td>-1.0</td>\n",
       "      <td>-1.0</td>\n",
       "      <td>0.0</td>\n",
       "      <td>0.0</td>\n",
       "      <td>1.0</td>\n",
       "      <td>0.0</td>\n",
       "    </tr>\n",
       "    <tr>\n",
       "      <th>3</th>\n",
       "      <td>1</td>\n",
       "      <td>1.0</td>\n",
       "      <td>0.0</td>\n",
       "      <td>0.0</td>\n",
       "      <td>0.0</td>\n",
       "      <td>1.0</td>\n",
       "      <td>0.0</td>\n",
       "      <td>0.0</td>\n",
       "    </tr>\n",
       "    <tr>\n",
       "      <th>4</th>\n",
       "      <td>1</td>\n",
       "      <td>0.0</td>\n",
       "      <td>1.0</td>\n",
       "      <td>0.0</td>\n",
       "      <td>-1.0</td>\n",
       "      <td>-1.0</td>\n",
       "      <td>-1.0</td>\n",
       "      <td>-1.0</td>\n",
       "    </tr>\n",
       "    <tr>\n",
       "      <th>5</th>\n",
       "      <td>1</td>\n",
       "      <td>1.0</td>\n",
       "      <td>0.0</td>\n",
       "      <td>0.0</td>\n",
       "      <td>-1.0</td>\n",
       "      <td>-1.0</td>\n",
       "      <td>-1.0</td>\n",
       "      <td>-1.0</td>\n",
       "    </tr>\n",
       "  </tbody>\n",
       "</table>\n",
       "</div>"
      ],
      "text/plain": [
       "   intercept  Sex_0  Sex_1  Sex_2  Type_0  Type_1  Type_2  Type_3\n",
       "0          1    0.0    1.0    0.0     0.0     1.0     0.0     0.0\n",
       "1          1    1.0    0.0    0.0     0.0     1.0     0.0     0.0\n",
       "2          1   -1.0   -1.0   -1.0     0.0     0.0     1.0     0.0\n",
       "3          1    1.0    0.0    0.0     0.0     1.0     0.0     0.0\n",
       "4          1    0.0    1.0    0.0    -1.0    -1.0    -1.0    -1.0\n",
       "5          1    1.0    0.0    0.0    -1.0    -1.0    -1.0    -1.0"
      ]
     },
     "execution_count": 293,
     "metadata": {},
     "output_type": "execute_result"
    }
   ],
   "source": [
    "encoder = SumEncoder(cols=['Sex','Type'], \n",
    "                     handle_unknown='indicator', \n",
    "                     handle_missing='indicator').fit(train_set,train_y) # fit on trainset\n",
    "# handle_unknown is set to 'indicator', additional column indicating unknown or missing will\n",
    "# be added\n",
    "\n",
    "numeric_dataset = encoder.transform(test_set) # transform the test set\n",
    "numeric_dataset \n",
    "\n",
    "# the encoding Matrix is the same as using patsy package\n",
    "# illustrate the encoding schema for Sex features\n",
    "\n",
    "# from patsy.contrasts import Sum\n",
    "# levels = [1,2,3,4]\n",
    "# contrast = Sum().code_with_intercept(levels)\n",
    "# print(contrast.matrix) \n",
    "# # each row in the matrix corresponds with each of the \n",
    "# # 3 different values and the missing or unknow value)\n",
    "\n",
    "# [[ 1.  1.  0.  0.]\n",
    "#  [ 1.  0.  1.  0.]\n",
    "#  [ 1.  0.  0.  1.]\n",
    "#  [ 1. -1. -1. -1.]]"
   ]
  },
  {
   "cell_type": "markdown",
   "metadata": {},
   "source": [
    "### Target Encoding"
   ]
  },
  {
   "cell_type": "markdown",
   "metadata": {},
   "source": [
    "Target encoding is a method to encode categorical variables with only one single column based on not only the feature values themselves but also the corresponding target.  \n",
    "  \n",
    "For the case of categorical target: features are replaced with a blend of posterior probability of the target given particular categorical value and the prior probability of the target over all the training data.\n",
    "  \n",
    "For the case of continuous target: features are replaced with a blend of the expected value of the target given particular categorical value and the expected value of the target over all the training data.  \n",
    "  \n",
    "This method relys heavily on the distribution of the target. But it significantly reduces the number of encoded features generated."
   ]
  },
  {
   "cell_type": "markdown",
   "metadata": {},
   "source": [
    "Formula:  \n",
    "$smoove = \\frac{1}{1+ exp(-\\frac{n-min\\_samples\\_leaf}{smoothing})}$  \n",
    "$X_k' = Prior\\_Prob* (1 - smoove) + smoove * Condition\\_Prob $  \n",
    "$Condition\\_Prob =\\frac{n^{+}}{n} $\n",
    "  \n",
    "Where min_samples_leaf & smoothing are user defined parameters;  \n",
    "min_samples_leaf: the minimum samples to take category average into account;  \n",
    "smoothing: the smoothing effect to balance categorical average vs prior. Higher value means stronger regularization;  \n",
    "$X_k'$ is the encoded value of value k in category feature X;  \n",
    "Prior Prob: the prior probability/ expectation of the target variable;  \n",
    "n: the number of sample that have value k in feature X;  \n",
    "$n^{+}$: the number of sample that not only have value k in feature X but also have positive outcome;  \n",
    "  \n",
    "Reference: Micci-Barreca, D. (2001). A preprocessing scheme for high-cardinality categorical attributes in classification and prediction problems. ACM SIGKDD Explorations Newsletter, 3(1), 27-32."
   ]
  },
  {
   "cell_type": "code",
   "execution_count": 301,
   "metadata": {
    "ExecuteTime": {
     "end_time": "2020-01-08T21:44:47.343833Z",
     "start_time": "2020-01-08T21:44:47.337214Z"
    }
   },
   "outputs": [],
   "source": [
    "import pandas as pd\n",
    "from category_encoders.target_encoder import TargetEncoder\n",
    "# category_encoders package directly support dataframe\n",
    "\n",
    "# create some train set\n",
    "train_set = pd.DataFrame(np.array([['male',10],['female', 20], ['male',10], \n",
    "                       ['female',20],['female',15]]),\n",
    "             columns = ['Sex','Type'])\n",
    "train_y = np.array([False, True, True, False, False])\n",
    "\n",
    "# create some test set, include unknown category & missing value\n",
    "test_set = pd.DataFrame(np.array([['female',20],['male', 20], ['others',15], \n",
    "                       ['male',20],['female', np.nan], ['male', 25]]),\n",
    "             columns = ['Sex','Type'])"
   ]
  },
  {
   "cell_type": "code",
   "execution_count": 304,
   "metadata": {
    "ExecuteTime": {
     "end_time": "2020-01-08T21:47:11.350545Z",
     "start_time": "2020-01-08T21:47:11.312542Z"
    }
   },
   "outputs": [
    {
     "data": {
      "text/html": [
       "<div>\n",
       "<style scoped>\n",
       "    .dataframe tbody tr th:only-of-type {\n",
       "        vertical-align: middle;\n",
       "    }\n",
       "\n",
       "    .dataframe tbody tr th {\n",
       "        vertical-align: top;\n",
       "    }\n",
       "\n",
       "    .dataframe thead th {\n",
       "        text-align: right;\n",
       "    }\n",
       "</style>\n",
       "<table border=\"1\" class=\"dataframe\">\n",
       "  <thead>\n",
       "    <tr style=\"text-align: right;\">\n",
       "      <th></th>\n",
       "      <th>Sex</th>\n",
       "      <th>Type</th>\n",
       "    </tr>\n",
       "  </thead>\n",
       "  <tbody>\n",
       "    <tr>\n",
       "      <th>0</th>\n",
       "      <td>0.341280</td>\n",
       "      <td>0.473106</td>\n",
       "    </tr>\n",
       "    <tr>\n",
       "      <th>1</th>\n",
       "      <td>0.473106</td>\n",
       "      <td>0.473106</td>\n",
       "    </tr>\n",
       "    <tr>\n",
       "      <th>2</th>\n",
       "      <td>0.400000</td>\n",
       "      <td>0.400000</td>\n",
       "    </tr>\n",
       "    <tr>\n",
       "      <th>3</th>\n",
       "      <td>0.473106</td>\n",
       "      <td>0.473106</td>\n",
       "    </tr>\n",
       "    <tr>\n",
       "      <th>4</th>\n",
       "      <td>0.341280</td>\n",
       "      <td>0.400000</td>\n",
       "    </tr>\n",
       "    <tr>\n",
       "      <th>5</th>\n",
       "      <td>0.473106</td>\n",
       "      <td>0.400000</td>\n",
       "    </tr>\n",
       "  </tbody>\n",
       "</table>\n",
       "</div>"
      ],
      "text/plain": [
       "        Sex      Type\n",
       "0  0.341280  0.473106\n",
       "1  0.473106  0.473106\n",
       "2  0.400000  0.400000\n",
       "3  0.473106  0.473106\n",
       "4  0.341280  0.400000\n",
       "5  0.473106  0.400000"
      ]
     },
     "execution_count": 304,
     "metadata": {},
     "output_type": "execute_result"
    }
   ],
   "source": [
    "encoder = TargetEncoder(cols=['Sex','Type'], \n",
    "                        handle_unknown='value',  \n",
    "                        handle_missing='value').fit(train_set,train_y) # fit on trainset\n",
    "# handle_unknown is set to 'value', it only accept ‘error’, ‘return_nan’ and ‘value’, \n",
    "# defaults to ‘value’, which returns the target mean.\n",
    "\n",
    "numeric_dataset = encoder.transform(test_set) # transform the test set\n",
    "numeric_dataset  # only two columns are returned!"
   ]
  },
  {
   "cell_type": "code",
   "execution_count": 320,
   "metadata": {
    "ExecuteTime": {
     "end_time": "2020-01-08T23:39:00.232506Z",
     "start_time": "2020-01-08T23:39:00.227205Z"
    }
   },
   "outputs": [],
   "source": [
    "# validate the result for male, which has encoded value 0.473106\n",
    "prior = train_y.mean()\n",
    "min_samples_leaf = 1.0 # default is 1.0\n",
    "smothing = 1.0 # default is 1.0\n",
    "n = 2 # 2 samples have male tag in train_set\n",
    "n_positive = 1 # only one of them has positive outcome in train_set\n",
    "\n",
    "𝑠𝑚𝑜𝑜𝑣𝑒 = 1 / (1 + np.exp(-(n - min_samples_leaf) / smothing))\n",
    "male_encode = prior * (1-𝑠𝑚𝑜𝑜𝑣𝑒) + 𝑠𝑚𝑜𝑜𝑣𝑒 * n_positive/n\n",
    "male_encode; # return 0.4731058578630005"
   ]
  },
  {
   "cell_type": "markdown",
   "metadata": {},
   "source": [
    "### M-estimate Encoding"
   ]
  },
  {
   "cell_type": "markdown",
   "metadata": {},
   "source": [
    "M-estimate Encoding is a simplified version of target encoder, which goes under names like m-probability estimate or additive smoothing with known incidence rates. In comparison to target encoder, m-probability estimate has only one tunable parameter (m), while target encoder has two tunable parameters (min_samples_leaf and smoothing).  "
   ]
  },
  {
   "cell_type": "markdown",
   "metadata": {},
   "source": [
    "Formula:  \n",
    "$X_k' = \\frac{n^{+} + prior * m}{y^{+} + m}$  \n",
    "\n",
    "Where m is a user defined parameter;  \n",
    "m: higher value of m results into stronger shrinking. M is non-negative.  \n",
    "$X_k'$ is the encoded value of value k in category feature X;  \n",
    "Prior: the prior probability/ expectation of the target variable;  \n",
    "$n^{+}$: the number of sample that not only have value k in feature X but also have positive outcome;  \n",
    "$y^{+}$: the number of sample that have positive outcome;  \n",
    "  \n",
    "Reference: Micci-Barreca, D. (2001). A preprocessing scheme for high-cardinality categorical attributes in classification and prediction problems. ACM SIGKDD Explorations Newsletter, 3(1), 27-32."
   ]
  },
  {
   "cell_type": "code",
   "execution_count": 322,
   "metadata": {
    "ExecuteTime": {
     "end_time": "2020-01-08T23:42:52.370188Z",
     "start_time": "2020-01-08T23:42:52.363423Z"
    }
   },
   "outputs": [],
   "source": [
    "import pandas as pd\n",
    "from category_encoders.m_estimate import MEstimateEncoder\n",
    "# category_encoders package directly support dataframe\n",
    "\n",
    "# create some train set\n",
    "train_set = pd.DataFrame(np.array([['male',10],['female', 20], ['male',10], \n",
    "                       ['female',20],['female',15]]),\n",
    "             columns = ['Sex','Type'])\n",
    "train_y = np.array([False, True, True, False, False])\n",
    "\n",
    "# create some test set, include unknown category & missing value\n",
    "test_set = pd.DataFrame(np.array([['female',20],['male', 20], ['others',15], \n",
    "                       ['male',20],['female', np.nan], ['male', 25]]),\n",
    "             columns = ['Sex','Type'])"
   ]
  },
  {
   "cell_type": "code",
   "execution_count": 323,
   "metadata": {
    "ExecuteTime": {
     "end_time": "2020-01-08T23:43:12.680284Z",
     "start_time": "2020-01-08T23:43:12.640483Z"
    }
   },
   "outputs": [
    {
     "data": {
      "text/html": [
       "<div>\n",
       "<style scoped>\n",
       "    .dataframe tbody tr th:only-of-type {\n",
       "        vertical-align: middle;\n",
       "    }\n",
       "\n",
       "    .dataframe tbody tr th {\n",
       "        vertical-align: top;\n",
       "    }\n",
       "\n",
       "    .dataframe thead th {\n",
       "        text-align: right;\n",
       "    }\n",
       "</style>\n",
       "<table border=\"1\" class=\"dataframe\">\n",
       "  <thead>\n",
       "    <tr style=\"text-align: right;\">\n",
       "      <th></th>\n",
       "      <th>Sex</th>\n",
       "      <th>Type</th>\n",
       "    </tr>\n",
       "  </thead>\n",
       "  <tbody>\n",
       "    <tr>\n",
       "      <th>0</th>\n",
       "      <td>0.350000</td>\n",
       "      <td>0.466667</td>\n",
       "    </tr>\n",
       "    <tr>\n",
       "      <th>1</th>\n",
       "      <td>0.466667</td>\n",
       "      <td>0.466667</td>\n",
       "    </tr>\n",
       "    <tr>\n",
       "      <th>2</th>\n",
       "      <td>0.400000</td>\n",
       "      <td>0.200000</td>\n",
       "    </tr>\n",
       "    <tr>\n",
       "      <th>3</th>\n",
       "      <td>0.466667</td>\n",
       "      <td>0.466667</td>\n",
       "    </tr>\n",
       "    <tr>\n",
       "      <th>4</th>\n",
       "      <td>0.350000</td>\n",
       "      <td>0.400000</td>\n",
       "    </tr>\n",
       "    <tr>\n",
       "      <th>5</th>\n",
       "      <td>0.466667</td>\n",
       "      <td>0.400000</td>\n",
       "    </tr>\n",
       "  </tbody>\n",
       "</table>\n",
       "</div>"
      ],
      "text/plain": [
       "        Sex      Type\n",
       "0  0.350000  0.466667\n",
       "1  0.466667  0.466667\n",
       "2  0.400000  0.200000\n",
       "3  0.466667  0.466667\n",
       "4  0.350000  0.400000\n",
       "5  0.466667  0.400000"
      ]
     },
     "execution_count": 323,
     "metadata": {},
     "output_type": "execute_result"
    }
   ],
   "source": [
    "encoder = MEstimateEncoder(cols=['Sex','Type'], \n",
    "                           handle_unknown='value',  \n",
    "                           handle_missing='value').fit(train_set,train_y) # fit on trainset\n",
    "# handle_unknown is set to 'value', it only accept ‘error’, ‘return_nan’ and ‘value’, \n",
    "# defaults to ‘value’, which returns the target mean.\n",
    "\n",
    "numeric_dataset = encoder.transform(test_set) # transform the test set\n",
    "numeric_dataset  # only two columns are returned!"
   ]
  },
  {
   "cell_type": "code",
   "execution_count": 327,
   "metadata": {
    "ExecuteTime": {
     "end_time": "2020-01-09T03:56:39.579714Z",
     "start_time": "2020-01-09T03:56:39.574693Z"
    }
   },
   "outputs": [],
   "source": [
    "# validate the result for male, which has encoded value 0.466667\n",
    "\n",
    "y_positive = 2 # 2 samples have positive outcome in train_y\n",
    "n_positive = 1 # 2 samples have male tag in train_set, only one has positive outcome in train_set\n",
    "prior = train_y.mean()\n",
    "m = 1.0 # default value\n",
    "male_encode = (n_positive + prior * m)/(y_positive + m)\n",
    "male_encode; # return 0.4666666666666666"
   ]
  },
  {
   "cell_type": "markdown",
   "metadata": {},
   "source": [
    "### James-Stein Encoder"
   ]
  },
  {
   "cell_type": "markdown",
   "metadata": {},
   "source": [
    "James-Stein Encoder is also a encoding method mased on target encoding. James-Stein Encoder tries to balancd the condition probability for the observed feature value i and the prior probability through parameter B. This is quite similar to target encoder, but James-Stein Encoder balances two probabilities by the variance ratio instead of the sample size.  \n",
    "\n",
    "It uses serveral methods such as independent method, pooled method etc. to estimate the parameter B. For more information, please refer to [the official website of category_encoders](http://contrib.scikit-learn.org/categorical-encoding/jamesstein.html). The meet the required assumption, we can either convert binary targets with a log-odds ratio as it was done in WoE Encoder (which is used by default because it is simple) or use beta distribution.  "
   ]
  },
  {
   "cell_type": "markdown",
   "metadata": {},
   "source": [
    "The formula for independent method:  \n",
    "$X_k' = (1 - B) * Condition\\_Prob + B * prior $  \n",
    "$B = \\frac{Var(y^{k})}{Var(y^{k}) + Var(y)}$  \n",
    "$Condition\\_Prob =\\frac{n^{+}}{n} $\n",
    "  \n",
    "Where,\n",
    "$X_k'$ is the encoded value of value k in category feature X;  \n",
    "Prior: the prior probability/ expectation of the target variable;  \n",
    "$n^{+}$: the number of sample that not only have value k in feature X but also have positive outcome;  \n",
    "$n$: the number of sample that have value k;  \n",
    "$Var(y^{k})$: the variance of the population (that have value k in feature X)' outcome mean;  \n",
    "$Var(y)$: the variance of the population outcome;  \n",
    "Both $Var(y^{k})$ & $Var(y)$ should be estimated through sample statistics. The intuition behind B is that: if the estimate of mean(y_i) is unreliable (y_i has high variance), we should put more weight on mean(y) "
   ]
  },
  {
   "cell_type": "code",
   "execution_count": 331,
   "metadata": {
    "ExecuteTime": {
     "end_time": "2020-01-09T04:07:30.960789Z",
     "start_time": "2020-01-09T04:07:30.954098Z"
    }
   },
   "outputs": [],
   "source": [
    "import pandas as pd\n",
    "from category_encoders.james_stein import JamesSteinEncoder\n",
    "# category_encoders package directly support dataframe\n",
    "\n",
    "# create some train set\n",
    "train_set = pd.DataFrame(np.array([['male',10],['female', 20], ['male',10], \n",
    "                       ['female',20],['female',15]]),\n",
    "             columns = ['Sex','Type'])\n",
    "train_y = np.array([False, True, True, False, False])\n",
    "\n",
    "# create some test set, include unknown category & missing value\n",
    "test_set = pd.DataFrame(np.array([['female',20],['male', 20], ['others',15], \n",
    "                       ['male',20],['female', np.nan], ['male', 25]]),\n",
    "             columns = ['Sex','Type'])"
   ]
  },
  {
   "cell_type": "code",
   "execution_count": 401,
   "metadata": {
    "ExecuteTime": {
     "end_time": "2020-01-09T16:19:19.250124Z",
     "start_time": "2020-01-09T16:19:19.210811Z"
    }
   },
   "outputs": [
    {
     "data": {
      "text/html": [
       "<div>\n",
       "<style scoped>\n",
       "    .dataframe tbody tr th:only-of-type {\n",
       "        vertical-align: middle;\n",
       "    }\n",
       "\n",
       "    .dataframe tbody tr th {\n",
       "        vertical-align: top;\n",
       "    }\n",
       "\n",
       "    .dataframe thead th {\n",
       "        text-align: right;\n",
       "    }\n",
       "</style>\n",
       "<table border=\"1\" class=\"dataframe\">\n",
       "  <thead>\n",
       "    <tr style=\"text-align: right;\">\n",
       "      <th></th>\n",
       "      <th>Sex</th>\n",
       "      <th>Type</th>\n",
       "    </tr>\n",
       "  </thead>\n",
       "  <tbody>\n",
       "    <tr>\n",
       "      <th>0</th>\n",
       "      <td>0.333333</td>\n",
       "      <td>0.5</td>\n",
       "    </tr>\n",
       "    <tr>\n",
       "      <th>1</th>\n",
       "      <td>0.500000</td>\n",
       "      <td>0.5</td>\n",
       "    </tr>\n",
       "    <tr>\n",
       "      <th>2</th>\n",
       "      <td>0.400000</td>\n",
       "      <td>0.0</td>\n",
       "    </tr>\n",
       "    <tr>\n",
       "      <th>3</th>\n",
       "      <td>0.500000</td>\n",
       "      <td>0.5</td>\n",
       "    </tr>\n",
       "    <tr>\n",
       "      <th>4</th>\n",
       "      <td>0.333333</td>\n",
       "      <td>0.4</td>\n",
       "    </tr>\n",
       "    <tr>\n",
       "      <th>5</th>\n",
       "      <td>0.500000</td>\n",
       "      <td>0.4</td>\n",
       "    </tr>\n",
       "  </tbody>\n",
       "</table>\n",
       "</div>"
      ],
      "text/plain": [
       "        Sex  Type\n",
       "0  0.333333   0.5\n",
       "1  0.500000   0.5\n",
       "2  0.400000   0.0\n",
       "3  0.500000   0.5\n",
       "4  0.333333   0.4\n",
       "5  0.500000   0.4"
      ]
     },
     "execution_count": 401,
     "metadata": {},
     "output_type": "execute_result"
    }
   ],
   "source": [
    "encoder = JamesSteinEncoder(cols=['Sex','Type'], \n",
    "                           handle_unknown='value', \n",
    "                           model='independent',  \n",
    "                           handle_missing='value').fit(train_set,train_y) # fit on trainset\n",
    "# handle_unknown is set to 'value', it only accept ‘error’, ‘return_nan’ and ‘value’, \n",
    "# defaults to ‘value’, which returns the target mean.\n",
    "\n",
    "numeric_dataset = encoder.transform(test_set) # transform the test set\n",
    "numeric_dataset  # only two columns are returned!\n",
    "# since in the category_encoders, it modifies slightly the equation above, so we will not\n",
    "# validate the results."
   ]
  },
  {
   "cell_type": "markdown",
   "metadata": {},
   "source": [
    "### Weight of Evidence Encoder"
   ]
  },
  {
   "cell_type": "markdown",
   "metadata": {},
   "source": [
    "The weight of evidence encoder also encodes the categorical variable based on their relationship with the target variable. "
   ]
  },
  {
   "cell_type": "markdown",
   "metadata": {},
   "source": [
    "Formula:  \n",
    "$WoE = X_k' = ln(\\frac{distribution\\_of\\_positive}{distribution\\_of\\_negative})$  \n",
    "$distribution\\_of\\_positive = \\frac{n^{+}}{y^{+}}$\n",
    "$distribution\\_of\\_positive = \\frac{n^{-}}{y^{-}}$  \n",
    "  \n",
    "Above is the original definition of WoE, but in category_encoders, it also adds regulization to prevent overfitting. So the new $distribution\\_of\\_positive$, $distribution\\_of\\_negative$ are as below:  \n",
    "\n",
    "$distribution\\_of\\_positive = \\frac{n^{+} + regularization }{y^{+} + 2 * regularization }$  \n",
    "$distribution\\_of\\_positive = \\frac{n^{-} + regularization }{y^{-} + 2 * regularization }$ "
   ]
  },
  {
   "cell_type": "code",
   "execution_count": 402,
   "metadata": {
    "ExecuteTime": {
     "end_time": "2020-01-09T18:00:40.755160Z",
     "start_time": "2020-01-09T18:00:40.748119Z"
    }
   },
   "outputs": [],
   "source": [
    "import pandas as pd\n",
    "from category_encoders.woe import WOEEncoder\n",
    "# category_encoders package directly support dataframe\n",
    "\n",
    "# create some train set\n",
    "train_set = pd.DataFrame(np.array([['male',10],['female', 20], ['male',10], \n",
    "                       ['female',20],['female',15]]),\n",
    "             columns = ['Sex','Type'])\n",
    "train_y = np.array([False, True, True, False, False])\n",
    "\n",
    "# create some test set, include unknown category & missing value\n",
    "test_set = pd.DataFrame(np.array([['female',20],['male', 20], ['others',15], \n",
    "                       ['male',20],['female', np.nan], ['male', 25]]),\n",
    "             columns = ['Sex','Type'])"
   ]
  },
  {
   "cell_type": "code",
   "execution_count": 403,
   "metadata": {
    "ExecuteTime": {
     "end_time": "2020-01-09T18:06:44.757784Z",
     "start_time": "2020-01-09T18:06:44.714671Z"
    }
   },
   "outputs": [
    {
     "data": {
      "text/html": [
       "<div>\n",
       "<style scoped>\n",
       "    .dataframe tbody tr th:only-of-type {\n",
       "        vertical-align: middle;\n",
       "    }\n",
       "\n",
       "    .dataframe tbody tr th {\n",
       "        vertical-align: top;\n",
       "    }\n",
       "\n",
       "    .dataframe thead th {\n",
       "        text-align: right;\n",
       "    }\n",
       "</style>\n",
       "<table border=\"1\" class=\"dataframe\">\n",
       "  <thead>\n",
       "    <tr style=\"text-align: right;\">\n",
       "      <th></th>\n",
       "      <th>Sex</th>\n",
       "      <th>Type</th>\n",
       "    </tr>\n",
       "  </thead>\n",
       "  <tbody>\n",
       "    <tr>\n",
       "      <th>0</th>\n",
       "      <td>-0.182322</td>\n",
       "      <td>0.223144</td>\n",
       "    </tr>\n",
       "    <tr>\n",
       "      <th>1</th>\n",
       "      <td>0.223144</td>\n",
       "      <td>0.223144</td>\n",
       "    </tr>\n",
       "    <tr>\n",
       "      <th>2</th>\n",
       "      <td>0.000000</td>\n",
       "      <td>0.000000</td>\n",
       "    </tr>\n",
       "    <tr>\n",
       "      <th>3</th>\n",
       "      <td>0.223144</td>\n",
       "      <td>0.223144</td>\n",
       "    </tr>\n",
       "    <tr>\n",
       "      <th>4</th>\n",
       "      <td>-0.182322</td>\n",
       "      <td>0.000000</td>\n",
       "    </tr>\n",
       "    <tr>\n",
       "      <th>5</th>\n",
       "      <td>0.223144</td>\n",
       "      <td>0.000000</td>\n",
       "    </tr>\n",
       "  </tbody>\n",
       "</table>\n",
       "</div>"
      ],
      "text/plain": [
       "        Sex      Type\n",
       "0 -0.182322  0.223144\n",
       "1  0.223144  0.223144\n",
       "2  0.000000  0.000000\n",
       "3  0.223144  0.223144\n",
       "4 -0.182322  0.000000\n",
       "5  0.223144  0.000000"
      ]
     },
     "execution_count": 403,
     "metadata": {},
     "output_type": "execute_result"
    }
   ],
   "source": [
    "encoder = WOEEncoder(cols=['Sex','Type'], \n",
    "                     handle_unknown='value',  \n",
    "                     handle_missing='value').fit(train_set,train_y) # fit on trainset\n",
    "# handle_unknown is set to 'value', it only accept ‘error’, ‘return_nan’ and ‘value’, \n",
    "# defaults to ‘value’, which returns the target mean.\n",
    "\n",
    "numeric_dataset = encoder.transform(test_set) # transform the test set\n",
    "numeric_dataset  # only two columns are returned!"
   ]
  },
  {
   "cell_type": "code",
   "execution_count": 411,
   "metadata": {
    "ExecuteTime": {
     "end_time": "2020-01-09T18:28:51.985738Z",
     "start_time": "2020-01-09T18:28:51.980752Z"
    }
   },
   "outputs": [],
   "source": [
    "# validate the result for male, which has encoded value 0.223144\n",
    "\n",
    "y = 5 # 5 samples in the train_set\n",
    "y_positive = 2 # 2 samples have positive outcome in train_y\n",
    "\n",
    "n = 2 # 2 samples have male tag in train_set\n",
    "n_positive = 1 # only one has positive outcome in train_set\n",
    "\n",
    "regularization = 1.0 # default value\n",
    "\n",
    "dis_postive = (n_positive + regularization) / (y_positive + 2 * regularization)\n",
    "dis_negative = (n - n_positive + regularization) / (y - y_positive + 2 * regularization)\n",
    "male_encode = np.log(dis_postive / dis_negative)\n",
    "male_encode; # return  0.22314355131420976"
   ]
  },
  {
   "cell_type": "markdown",
   "metadata": {},
   "source": [
    "### Leave One Out Encoder"
   ]
  },
  {
   "cell_type": "markdown",
   "metadata": {},
   "source": [
    "Leave One Out Encoder simply encodes each group(a unique value group in categorical feature) by the group mean. But it takes over-fitting into consideration and encodes each sample in train set by the group mean excluding the sample itself. So in the trainset, each samples that have the same group value may be encoded in different values.   \n",
    "  \n",
    "It encodes test set in a different way, each samples in test set is encoded by the group mean in train set without any exclusion. "
   ]
  },
  {
   "cell_type": "markdown",
   "metadata": {},
   "source": [
    "Formula:  \n",
    "Train set: $X_i^k = \\frac{\\sum_{j\\neq i} (y_j * (x_j == k))}{\\sum_{j\\neq i} ( x_j == k)}$  \n",
    "Test set: $X_i^k = \\frac{\\sum_{j} (y_j * (x_j == k))}{\\sum_{j} ( x_j == k)}$  \n",
    "($x_j == k$) will return 1 if sample j have tag K in categorical feature X and return 0 if not  \n",
    "$X_i^k$ is the encoded value of sample i if it has value k in category feature X; "
   ]
  },
  {
   "cell_type": "code",
   "execution_count": 423,
   "metadata": {
    "ExecuteTime": {
     "end_time": "2020-01-09T18:50:12.031001Z",
     "start_time": "2020-01-09T18:50:12.025689Z"
    }
   },
   "outputs": [],
   "source": [
    "import pandas as pd\n",
    "from category_encoders.leave_one_out import LeaveOneOutEncoder\n",
    "# category_encoders package directly support dataframe\n",
    "\n",
    "# create some train set\n",
    "train_set = pd.DataFrame(np.array([['male',10],['female', 20], ['male',10], \n",
    "                       ['female',20],['female',15]]),\n",
    "             columns = ['Sex','Type'])\n",
    "train_y = np.array([False, True, True, False, False])\n",
    "\n",
    "# create some test set, include unknown category & missing value\n",
    "test_set = pd.DataFrame(np.array([['female',20],['male', 20], ['others',15], \n",
    "                       ['male',20],['female', np.nan], ['male', 25]]),\n",
    "             columns = ['Sex','Type'])"
   ]
  },
  {
   "cell_type": "code",
   "execution_count": 424,
   "metadata": {
    "ExecuteTime": {
     "end_time": "2020-01-09T18:50:12.460759Z",
     "start_time": "2020-01-09T18:50:12.425048Z"
    }
   },
   "outputs": [
    {
     "data": {
      "text/html": [
       "<div>\n",
       "<style scoped>\n",
       "    .dataframe tbody tr th:only-of-type {\n",
       "        vertical-align: middle;\n",
       "    }\n",
       "\n",
       "    .dataframe tbody tr th {\n",
       "        vertical-align: top;\n",
       "    }\n",
       "\n",
       "    .dataframe thead th {\n",
       "        text-align: right;\n",
       "    }\n",
       "</style>\n",
       "<table border=\"1\" class=\"dataframe\">\n",
       "  <thead>\n",
       "    <tr style=\"text-align: right;\">\n",
       "      <th></th>\n",
       "      <th>Sex</th>\n",
       "      <th>Type</th>\n",
       "    </tr>\n",
       "  </thead>\n",
       "  <tbody>\n",
       "    <tr>\n",
       "      <th>0</th>\n",
       "      <td>0.333333</td>\n",
       "      <td>0.5</td>\n",
       "    </tr>\n",
       "    <tr>\n",
       "      <th>1</th>\n",
       "      <td>0.500000</td>\n",
       "      <td>0.5</td>\n",
       "    </tr>\n",
       "    <tr>\n",
       "      <th>2</th>\n",
       "      <td>0.400000</td>\n",
       "      <td>0.4</td>\n",
       "    </tr>\n",
       "    <tr>\n",
       "      <th>3</th>\n",
       "      <td>0.500000</td>\n",
       "      <td>0.5</td>\n",
       "    </tr>\n",
       "    <tr>\n",
       "      <th>4</th>\n",
       "      <td>0.333333</td>\n",
       "      <td>0.4</td>\n",
       "    </tr>\n",
       "    <tr>\n",
       "      <th>5</th>\n",
       "      <td>0.500000</td>\n",
       "      <td>0.4</td>\n",
       "    </tr>\n",
       "  </tbody>\n",
       "</table>\n",
       "</div>"
      ],
      "text/plain": [
       "        Sex  Type\n",
       "0  0.333333   0.5\n",
       "1  0.500000   0.5\n",
       "2  0.400000   0.4\n",
       "3  0.500000   0.5\n",
       "4  0.333333   0.4\n",
       "5  0.500000   0.4"
      ]
     },
     "execution_count": 424,
     "metadata": {},
     "output_type": "execute_result"
    }
   ],
   "source": [
    "encoder = LeaveOneOutEncoder(cols=['Sex','Type'], \n",
    "                             handle_unknown='value',  \n",
    "                             handle_missing='value').fit(train_set,train_y) # fit on trainset\n",
    "# handle_unknown is set to 'value', it only accept ‘error’, ‘return_nan’ and ‘value’, \n",
    "# defaults to ‘value’, which returns the target mean.\n",
    "\n",
    "numeric_dataset = encoder.transform(test_set) # transform the test set\n",
    "numeric_dataset  # only two columns are returned!\n",
    "# it can easily be seen that all the groups in two categorical feature are encoded by\n",
    "# the group mean in train set."
   ]
  },
  {
   "cell_type": "code",
   "execution_count": 430,
   "metadata": {
    "ExecuteTime": {
     "end_time": "2020-01-09T21:43:19.684417Z",
     "start_time": "2020-01-09T21:43:19.643616Z"
    }
   },
   "outputs": [
    {
     "data": {
      "text/html": [
       "<div>\n",
       "<style scoped>\n",
       "    .dataframe tbody tr th:only-of-type {\n",
       "        vertical-align: middle;\n",
       "    }\n",
       "\n",
       "    .dataframe tbody tr th {\n",
       "        vertical-align: top;\n",
       "    }\n",
       "\n",
       "    .dataframe thead th {\n",
       "        text-align: right;\n",
       "    }\n",
       "</style>\n",
       "<table border=\"1\" class=\"dataframe\">\n",
       "  <thead>\n",
       "    <tr style=\"text-align: right;\">\n",
       "      <th></th>\n",
       "      <th>Sex</th>\n",
       "      <th>Type</th>\n",
       "    </tr>\n",
       "  </thead>\n",
       "  <tbody>\n",
       "    <tr>\n",
       "      <th>0</th>\n",
       "      <td>1.0</td>\n",
       "      <td>1.0</td>\n",
       "    </tr>\n",
       "    <tr>\n",
       "      <th>1</th>\n",
       "      <td>0.0</td>\n",
       "      <td>0.0</td>\n",
       "    </tr>\n",
       "    <tr>\n",
       "      <th>2</th>\n",
       "      <td>0.0</td>\n",
       "      <td>0.0</td>\n",
       "    </tr>\n",
       "    <tr>\n",
       "      <th>3</th>\n",
       "      <td>0.5</td>\n",
       "      <td>1.0</td>\n",
       "    </tr>\n",
       "    <tr>\n",
       "      <th>4</th>\n",
       "      <td>0.5</td>\n",
       "      <td>0.4</td>\n",
       "    </tr>\n",
       "  </tbody>\n",
       "</table>\n",
       "</div>"
      ],
      "text/plain": [
       "   Sex  Type\n",
       "0  1.0   1.0\n",
       "1  0.0   0.0\n",
       "2  0.0   0.0\n",
       "3  0.5   1.0\n",
       "4  0.5   0.4"
      ]
     },
     "execution_count": 430,
     "metadata": {},
     "output_type": "execute_result"
    }
   ],
   "source": [
    "# encoded result for train_set\n",
    "LeaveOneOutEncoder(cols=['Sex','Type'],\n",
    "                   handle_unknown='value',  \n",
    "                   handle_missing='value').fit_transform(train_set,train_y)\n",
    "# for the first sample, it has male tag, when excluding this sample, the sample for male\n",
    "# group becomes 1.0.\n",
    "# But for third samples, although it also has male tag, it is encoded with 0.0"
   ]
  },
  {
   "cell_type": "markdown",
   "metadata": {},
   "source": [
    "### Catboost Encoder"
   ]
  },
  {
   "cell_type": "markdown",
   "metadata": {},
   "source": [
    "CatBoost is a Gradient Boosting model that have excellent results especially for dataset contains large number of categorical features. The model propose a new encoding system based on Leave One Out Encoder for categorical features. The training data have to be randomly permutated before using Catboost Encoder because in Catboost, the encoded value is based on an idea of “time”, which is the order of observations in the dataset."
   ]
  },
  {
   "cell_type": "markdown",
   "metadata": {},
   "source": [
    "Formula:  \n",
    "Train set: $\\frac{\\sum_{j < i} (y_j * (x_j == k)) + a * Prior}{\\sum_{j<i} (x_j == k) + a}$  \n",
    "Test set: $X_i^k = \\frac{\\sum_{j} (y_j * (x_j == k)) + a * Prior}{\\sum_{j} ( x_j == k) + a}$  \n",
    "($x_j == k$) will return 1 if sample j have tag K in categorical feature X and return 0 if not  \n",
    "$X_i^k$ is the encoded value of sample i if it has value k in category feature X;  \n",
    "Prior is the prior probability/ expectation of the target variable;  \n",
    "a is the regularization term."
   ]
  },
  {
   "cell_type": "code",
   "execution_count": 432,
   "metadata": {
    "ExecuteTime": {
     "end_time": "2020-01-09T22:10:08.369938Z",
     "start_time": "2020-01-09T22:10:08.362403Z"
    }
   },
   "outputs": [],
   "source": [
    "import pandas as pd\n",
    "from category_encoders.cat_boost import CatBoostEncoder\n",
    "# category_encoders package directly support dataframe\n",
    "\n",
    "# create some train set\n",
    "train_set = pd.DataFrame(np.array([['male',10],['female', 20], ['male',10], \n",
    "                       ['female',20],['female',15]]),\n",
    "             columns = ['Sex','Type'])\n",
    "train_y = np.array([False, True, True, False, False])\n",
    "\n",
    "# create some test set, include unknown category & missing value\n",
    "test_set = pd.DataFrame(np.array([['female',20],['male', 20], ['others',15], \n",
    "                       ['male',20],['female', np.nan], ['male', 25]]),\n",
    "             columns = ['Sex','Type'])"
   ]
  },
  {
   "cell_type": "code",
   "execution_count": 433,
   "metadata": {
    "ExecuteTime": {
     "end_time": "2020-01-09T22:10:49.306896Z",
     "start_time": "2020-01-09T22:10:49.240478Z"
    }
   },
   "outputs": [
    {
     "data": {
      "text/html": [
       "<div>\n",
       "<style scoped>\n",
       "    .dataframe tbody tr th:only-of-type {\n",
       "        vertical-align: middle;\n",
       "    }\n",
       "\n",
       "    .dataframe tbody tr th {\n",
       "        vertical-align: top;\n",
       "    }\n",
       "\n",
       "    .dataframe thead th {\n",
       "        text-align: right;\n",
       "    }\n",
       "</style>\n",
       "<table border=\"1\" class=\"dataframe\">\n",
       "  <thead>\n",
       "    <tr style=\"text-align: right;\">\n",
       "      <th></th>\n",
       "      <th>Sex</th>\n",
       "      <th>Type</th>\n",
       "    </tr>\n",
       "  </thead>\n",
       "  <tbody>\n",
       "    <tr>\n",
       "      <th>0</th>\n",
       "      <td>0.350000</td>\n",
       "      <td>0.466667</td>\n",
       "    </tr>\n",
       "    <tr>\n",
       "      <th>1</th>\n",
       "      <td>0.466667</td>\n",
       "      <td>0.466667</td>\n",
       "    </tr>\n",
       "    <tr>\n",
       "      <th>2</th>\n",
       "      <td>0.400000</td>\n",
       "      <td>0.400000</td>\n",
       "    </tr>\n",
       "    <tr>\n",
       "      <th>3</th>\n",
       "      <td>0.466667</td>\n",
       "      <td>0.466667</td>\n",
       "    </tr>\n",
       "    <tr>\n",
       "      <th>4</th>\n",
       "      <td>0.350000</td>\n",
       "      <td>0.400000</td>\n",
       "    </tr>\n",
       "    <tr>\n",
       "      <th>5</th>\n",
       "      <td>0.466667</td>\n",
       "      <td>0.400000</td>\n",
       "    </tr>\n",
       "  </tbody>\n",
       "</table>\n",
       "</div>"
      ],
      "text/plain": [
       "        Sex      Type\n",
       "0  0.350000  0.466667\n",
       "1  0.466667  0.466667\n",
       "2  0.400000  0.400000\n",
       "3  0.466667  0.466667\n",
       "4  0.350000  0.400000\n",
       "5  0.466667  0.400000"
      ]
     },
     "execution_count": 433,
     "metadata": {},
     "output_type": "execute_result"
    }
   ],
   "source": [
    "# in fact before fitting the trainset,we should shuffle the dataset\n",
    "# but in order to illustrate & validate how to compute the encoded value, we don't shuffle.\n",
    "encoder = CatBoostEncoder(cols=['Sex','Type'], \n",
    "                          handle_unknown='value',  \n",
    "                          handle_missing='value').fit(train_set,train_y) # fit on trainset\n",
    "# handle_unknown is set to 'value', it only accept ‘error’, ‘return_nan’ and ‘value’, \n",
    "# defaults to ‘value’, which returns the target mean.\n",
    "\n",
    "numeric_dataset = encoder.transform(test_set) # transform the test set\n",
    "numeric_dataset  # only two columns are returned!"
   ]
  },
  {
   "cell_type": "code",
   "execution_count": 446,
   "metadata": {
    "ExecuteTime": {
     "end_time": "2020-01-09T22:34:07.042137Z",
     "start_time": "2020-01-09T22:34:07.039076Z"
    }
   },
   "outputs": [],
   "source": [
    "# validate the result for male, which has encoded value 0.466667\n",
    "\n",
    "Prior = train_y.mean()\n",
    "n = 2 # there are two samples in the train_set that has male tag\n",
    "n_positive = 1 # only one of them has positive outcome\n",
    "a = 1 # default value\n",
    "\n",
    "encoded_male = (n_positive + a * prior) / (n + a); # return 0.4666666666666666"
   ]
  },
  {
   "cell_type": "code",
   "execution_count": 451,
   "metadata": {
    "ExecuteTime": {
     "end_time": "2020-01-09T22:37:26.707402Z",
     "start_time": "2020-01-09T22:37:26.650719Z"
    }
   },
   "outputs": [
    {
     "data": {
      "text/html": [
       "<div>\n",
       "<style scoped>\n",
       "    .dataframe tbody tr th:only-of-type {\n",
       "        vertical-align: middle;\n",
       "    }\n",
       "\n",
       "    .dataframe tbody tr th {\n",
       "        vertical-align: top;\n",
       "    }\n",
       "\n",
       "    .dataframe thead th {\n",
       "        text-align: right;\n",
       "    }\n",
       "</style>\n",
       "<table border=\"1\" class=\"dataframe\">\n",
       "  <thead>\n",
       "    <tr style=\"text-align: right;\">\n",
       "      <th></th>\n",
       "      <th>Sex</th>\n",
       "      <th>Type</th>\n",
       "    </tr>\n",
       "  </thead>\n",
       "  <tbody>\n",
       "    <tr>\n",
       "      <th>0</th>\n",
       "      <td>0.400000</td>\n",
       "      <td>0.4</td>\n",
       "    </tr>\n",
       "    <tr>\n",
       "      <th>1</th>\n",
       "      <td>0.400000</td>\n",
       "      <td>0.4</td>\n",
       "    </tr>\n",
       "    <tr>\n",
       "      <th>2</th>\n",
       "      <td>0.200000</td>\n",
       "      <td>0.2</td>\n",
       "    </tr>\n",
       "    <tr>\n",
       "      <th>3</th>\n",
       "      <td>0.700000</td>\n",
       "      <td>0.7</td>\n",
       "    </tr>\n",
       "    <tr>\n",
       "      <th>4</th>\n",
       "      <td>0.466667</td>\n",
       "      <td>0.4</td>\n",
       "    </tr>\n",
       "  </tbody>\n",
       "</table>\n",
       "</div>"
      ],
      "text/plain": [
       "        Sex  Type\n",
       "0  0.400000   0.4\n",
       "1  0.400000   0.4\n",
       "2  0.200000   0.2\n",
       "3  0.700000   0.7\n",
       "4  0.466667   0.4"
      ]
     },
     "execution_count": 451,
     "metadata": {},
     "output_type": "execute_result"
    }
   ],
   "source": [
    "# encoded result for train_set\n",
    "CatBoostEncoder(cols=['Sex','Type'],\n",
    "                handle_unknown='value',  \n",
    "                handle_missing='value').fit_transform(train_set,train_y)"
   ]
  },
  {
   "cell_type": "code",
   "execution_count": 452,
   "metadata": {
    "ExecuteTime": {
     "end_time": "2020-01-09T22:37:33.459745Z",
     "start_time": "2020-01-09T22:37:33.456177Z"
    }
   },
   "outputs": [],
   "source": [
    "# validate the above result for the third sample that have male tag\n",
    "Prior = train_y.mean()\n",
    "n = 1 # there are one samples in the train_set that has male tag and before the third sample\n",
    "n_positive = 0 #None of them has positive outcome\n",
    "a = 1 # default value\n",
    "\n",
    "encoded_male = (n_positive + a * prior) / (n + a); # return 0.2"
   ]
  },
  {
   "cell_type": "markdown",
   "metadata": {},
   "source": [
    "## Time Series Variables"
   ]
  },
  {
   "cell_type": "markdown",
   "metadata": {},
   "source": [
    "Sometime the dataset might be time-series. In this case, we can utilize the Featuretools package in python to perform automated feature engineering. Specifically, we can \"accumulate\" information across time."
   ]
  },
  {
   "cell_type": "code",
   "execution_count": 119,
   "metadata": {
    "ExecuteTime": {
     "end_time": "2020-01-10T23:36:00.445643Z",
     "start_time": "2020-01-10T23:36:00.427646Z"
    }
   },
   "outputs": [
    {
     "data": {
      "text/html": [
       "<div>\n",
       "<style scoped>\n",
       "    .dataframe tbody tr th:only-of-type {\n",
       "        vertical-align: middle;\n",
       "    }\n",
       "\n",
       "    .dataframe tbody tr th {\n",
       "        vertical-align: top;\n",
       "    }\n",
       "\n",
       "    .dataframe thead th {\n",
       "        text-align: right;\n",
       "    }\n",
       "</style>\n",
       "<table border=\"1\" class=\"dataframe\">\n",
       "  <thead>\n",
       "    <tr style=\"text-align: right;\">\n",
       "      <th></th>\n",
       "      <th>Customer ID</th>\n",
       "      <th>Seconds Stay</th>\n",
       "      <th>Item Purchase</th>\n",
       "      <th>Time</th>\n",
       "      <th>Sex</th>\n",
       "      <th>Age</th>\n",
       "      <th>Target</th>\n",
       "    </tr>\n",
       "  </thead>\n",
       "  <tbody>\n",
       "    <tr>\n",
       "      <th>0</th>\n",
       "      <td>001</td>\n",
       "      <td>100</td>\n",
       "      <td>Apple</td>\n",
       "      <td>2020-01-01</td>\n",
       "      <td>male</td>\n",
       "      <td>35</td>\n",
       "      <td>1</td>\n",
       "    </tr>\n",
       "    <tr>\n",
       "      <th>1</th>\n",
       "      <td>002</td>\n",
       "      <td>20</td>\n",
       "      <td>NaN</td>\n",
       "      <td>2020-01-01</td>\n",
       "      <td>female</td>\n",
       "      <td>30</td>\n",
       "      <td>0</td>\n",
       "    </tr>\n",
       "    <tr>\n",
       "      <th>2</th>\n",
       "      <td>003</td>\n",
       "      <td>50</td>\n",
       "      <td>Orange</td>\n",
       "      <td>2020-01-01</td>\n",
       "      <td>male</td>\n",
       "      <td>20</td>\n",
       "      <td>1</td>\n",
       "    </tr>\n",
       "    <tr>\n",
       "      <th>3</th>\n",
       "      <td>001</td>\n",
       "      <td>13</td>\n",
       "      <td>NaN</td>\n",
       "      <td>2020-01-03</td>\n",
       "      <td>male</td>\n",
       "      <td>35</td>\n",
       "      <td>0</td>\n",
       "    </tr>\n",
       "    <tr>\n",
       "      <th>4</th>\n",
       "      <td>002</td>\n",
       "      <td>30</td>\n",
       "      <td>Apple</td>\n",
       "      <td>2020-01-03</td>\n",
       "      <td>female</td>\n",
       "      <td>30</td>\n",
       "      <td>1</td>\n",
       "    </tr>\n",
       "    <tr>\n",
       "      <th>5</th>\n",
       "      <td>001</td>\n",
       "      <td>90</td>\n",
       "      <td>Orange</td>\n",
       "      <td>2020-01-06</td>\n",
       "      <td>male</td>\n",
       "      <td>35</td>\n",
       "      <td>1</td>\n",
       "    </tr>\n",
       "    <tr>\n",
       "      <th>6</th>\n",
       "      <td>003</td>\n",
       "      <td>5</td>\n",
       "      <td>Orange</td>\n",
       "      <td>2020-01-07</td>\n",
       "      <td>male</td>\n",
       "      <td>20</td>\n",
       "      <td>1</td>\n",
       "    </tr>\n",
       "  </tbody>\n",
       "</table>\n",
       "</div>"
      ],
      "text/plain": [
       "  Customer ID  Seconds Stay Item Purchase       Time     Sex  Age  Target\n",
       "0         001           100         Apple 2020-01-01    male   35       1\n",
       "1         002            20           NaN 2020-01-01  female   30       0\n",
       "2         003            50        Orange 2020-01-01    male   20       1\n",
       "3         001            13           NaN 2020-01-03    male   35       0\n",
       "4         002            30         Apple 2020-01-03  female   30       1\n",
       "5         001            90        Orange 2020-01-06    male   35       1\n",
       "6         003             5        Orange 2020-01-07    male   20       1"
      ]
     },
     "execution_count": 119,
     "metadata": {},
     "output_type": "execute_result"
    }
   ],
   "source": [
    "# generate some synthesized data\n",
    "import numpy as np\n",
    "import pandas as pd\n",
    "import featuretools as ft\n",
    "import datetime\n",
    "\n",
    "raw_dataset = np.array([['001',100, 'Apple', '2020/01/01', 'male', 35, 1],\n",
    "                        ['002',20, np.nan, '2020/01/01', 'female', 30, 0],\n",
    "                        ['003',50, 'Orange','2020/01/01', 'male', 20, 1],\n",
    "                        ['001', 13, np.nan, '2020/01/03', 'male', 35, 0],\n",
    "                        ['002', 30, 'Apple', '2020/01/03','female', 30, 1], \n",
    "                        ['001', 90, 'Orange', '2020/01/06', 'male', 35, 1], \n",
    "                        ['003', 5, 'Orange', '2020/01/07', 'male', 20, 1]])\n",
    "\n",
    "dataset = pd.DataFrame(raw_dataset, columns = ['Customer ID', 'Seconds Stay', 'Item Purchase',\n",
    "                                               'Time', 'Sex', 'Age', 'Target'])\n",
    "dataset['Seconds Stay'] = dataset['Seconds Stay'].astype(int)\n",
    "dataset['Target'] = dataset['Target'].astype(int)\n",
    "dataset['Age'] = dataset['Age'].astype(int)\n",
    "dataset['Time'] = pd.to_datetime(dataset['Time'])\n",
    "dataset['Item Purchase'] = dataset['Item Purchase'].replace(\"nan\", np.nan)\n",
    "\n",
    "dataset"
   ]
  },
  {
   "cell_type": "markdown",
   "metadata": {},
   "source": [
    "### Time Series Categorical Features"
   ]
  },
  {
   "cell_type": "markdown",
   "metadata": {},
   "source": [
    "For example, in the synthesized data above, suppose we want to predict whether customer 002 logged in on 2020-01-02 will purchase or not. An engineered feature for categorical feature Item Purchase might be how many previous purchase had customer 002 made before, what is his favorite product so far or how many unique items did customer 002 purchased before 2020-01-02."
   ]
  },
  {
   "cell_type": "markdown",
   "metadata": {
    "ExecuteTime": {
     "end_time": "2020-01-10T17:10:05.270400Z",
     "start_time": "2020-01-10T17:10:05.266485Z"
    }
   },
   "source": [
    "Some useful feature transformation offered in featuretools:  \n",
    "- COUNT: Determines the total number of values, excluding NaN before a give time.\n",
    "- Mode: Determines the most commonly repeated value before a give time.\n",
    "- NumUnique: Determines the number of distinct values, ignoring NaN values before a give time.\n",
    "- Entropy: Calculates the entropy for a categorical variable before a give time.\n",
    "- First: Determines the first value in a list before a give time.\n",
    "- Last: Determines the last value in a list before a give time.  \n",
    "  \n",
    "There are far more feature transformation available in featuretools, please reference [official website](https://docs.featuretools.com/en/stable/api_reference.html#aggregation-primitives)."
   ]
  },
  {
   "cell_type": "markdown",
   "metadata": {},
   "source": [
    "### Time Series Continuous Features"
   ]
  },
  {
   "cell_type": "markdown",
   "metadata": {},
   "source": [
    "For example, in the synthesized data above, suppose we want to predict whether customer 002 logged in on 2020-01-02 will purchase or not. An engineered feature for continuous feature Seconds day might be the average seconds stay before 2020-01-02, the stardard deviation of the seconds stay before 2020-01-02, a 15 days moving averge of seconds sta etc. "
   ]
  },
  {
   "cell_type": "markdown",
   "metadata": {},
   "source": [
    "Some useful feature transformation offered in featuretools:  \n",
    "- COUNT: Determines the total number of values, excluding NaN before a give time.\n",
    "- First: Determines the first value in a list before a give time.\n",
    "- Last: Determines the last value in a list before a give time.\n",
    "- Mean: Computes the average for a list of values before a give time.\n",
    "- Sum: Calculates the total addition, ignoring NaN before a give time.\n",
    "- Min: Calculates the smallest value, ignoring NaN values before a give time.\n",
    "- Max: Calculates the highest value, ignoring NaN values before a give time.\n",
    "- Std: Computes the dispersion relative to the mean value, ignoring NaN before a give time.\n",
    "- Median: Determines the middlemost number in a list of values before a give time.\n",
    "- Trend: Calculates the trend of a variable over time before a give time.  \n",
    "  \n",
    "There are far more feature transformation available in featuretools, please reference [official website](https://docs.featuretools.com/en/stable/api_reference.html#aggregation-primitives)."
   ]
  },
  {
   "cell_type": "markdown",
   "metadata": {},
   "source": [
    "### Implementation"
   ]
  },
  {
   "cell_type": "code",
   "execution_count": 120,
   "metadata": {
    "ExecuteTime": {
     "end_time": "2020-01-10T23:36:06.068481Z",
     "start_time": "2020-01-10T23:36:06.058754Z"
    }
   },
   "outputs": [
    {
     "data": {
      "text/html": [
       "<div>\n",
       "<style scoped>\n",
       "    .dataframe tbody tr th:only-of-type {\n",
       "        vertical-align: middle;\n",
       "    }\n",
       "\n",
       "    .dataframe tbody tr th {\n",
       "        vertical-align: top;\n",
       "    }\n",
       "\n",
       "    .dataframe thead th {\n",
       "        text-align: right;\n",
       "    }\n",
       "</style>\n",
       "<table border=\"1\" class=\"dataframe\">\n",
       "  <thead>\n",
       "    <tr style=\"text-align: right;\">\n",
       "      <th></th>\n",
       "      <th>Customer ID</th>\n",
       "      <th>Seconds Stay</th>\n",
       "      <th>Item Purchase</th>\n",
       "      <th>Time</th>\n",
       "      <th>Sex</th>\n",
       "      <th>Age</th>\n",
       "      <th>Target</th>\n",
       "    </tr>\n",
       "  </thead>\n",
       "  <tbody>\n",
       "    <tr>\n",
       "      <th>0</th>\n",
       "      <td>001</td>\n",
       "      <td>100</td>\n",
       "      <td>Apple</td>\n",
       "      <td>2020-01-01</td>\n",
       "      <td>male</td>\n",
       "      <td>35</td>\n",
       "      <td>1</td>\n",
       "    </tr>\n",
       "    <tr>\n",
       "      <th>1</th>\n",
       "      <td>002</td>\n",
       "      <td>20</td>\n",
       "      <td>NaN</td>\n",
       "      <td>2020-01-01</td>\n",
       "      <td>female</td>\n",
       "      <td>30</td>\n",
       "      <td>0</td>\n",
       "    </tr>\n",
       "    <tr>\n",
       "      <th>2</th>\n",
       "      <td>003</td>\n",
       "      <td>50</td>\n",
       "      <td>Orange</td>\n",
       "      <td>2020-01-01</td>\n",
       "      <td>male</td>\n",
       "      <td>20</td>\n",
       "      <td>1</td>\n",
       "    </tr>\n",
       "    <tr>\n",
       "      <th>3</th>\n",
       "      <td>001</td>\n",
       "      <td>13</td>\n",
       "      <td>NaN</td>\n",
       "      <td>2020-01-03</td>\n",
       "      <td>male</td>\n",
       "      <td>35</td>\n",
       "      <td>0</td>\n",
       "    </tr>\n",
       "    <tr>\n",
       "      <th>4</th>\n",
       "      <td>002</td>\n",
       "      <td>30</td>\n",
       "      <td>Apple</td>\n",
       "      <td>2020-01-03</td>\n",
       "      <td>female</td>\n",
       "      <td>30</td>\n",
       "      <td>1</td>\n",
       "    </tr>\n",
       "    <tr>\n",
       "      <th>5</th>\n",
       "      <td>001</td>\n",
       "      <td>90</td>\n",
       "      <td>Orange</td>\n",
       "      <td>2020-01-06</td>\n",
       "      <td>male</td>\n",
       "      <td>35</td>\n",
       "      <td>1</td>\n",
       "    </tr>\n",
       "    <tr>\n",
       "      <th>6</th>\n",
       "      <td>003</td>\n",
       "      <td>5</td>\n",
       "      <td>Orange</td>\n",
       "      <td>2020-01-07</td>\n",
       "      <td>male</td>\n",
       "      <td>20</td>\n",
       "      <td>1</td>\n",
       "    </tr>\n",
       "  </tbody>\n",
       "</table>\n",
       "</div>"
      ],
      "text/plain": [
       "  Customer ID  Seconds Stay Item Purchase       Time     Sex  Age  Target\n",
       "0         001           100         Apple 2020-01-01    male   35       1\n",
       "1         002            20           NaN 2020-01-01  female   30       0\n",
       "2         003            50        Orange 2020-01-01    male   20       1\n",
       "3         001            13           NaN 2020-01-03    male   35       0\n",
       "4         002            30         Apple 2020-01-03  female   30       1\n",
       "5         001            90        Orange 2020-01-06    male   35       1\n",
       "6         003             5        Orange 2020-01-07    male   20       1"
      ]
     },
     "execution_count": 120,
     "metadata": {},
     "output_type": "execute_result"
    }
   ],
   "source": [
    "# original dataset\n",
    "dataset"
   ]
  },
  {
   "cell_type": "markdown",
   "metadata": {},
   "source": [
    "#### Create EntitySet"
   ]
  },
  {
   "cell_type": "code",
   "execution_count": 121,
   "metadata": {
    "ExecuteTime": {
     "end_time": "2020-01-10T23:36:07.529580Z",
     "start_time": "2020-01-10T23:36:07.517996Z"
    }
   },
   "outputs": [
    {
     "data": {
      "text/html": [
       "<div>\n",
       "<style scoped>\n",
       "    .dataframe tbody tr th:only-of-type {\n",
       "        vertical-align: middle;\n",
       "    }\n",
       "\n",
       "    .dataframe tbody tr th {\n",
       "        vertical-align: top;\n",
       "    }\n",
       "\n",
       "    .dataframe thead th {\n",
       "        text-align: right;\n",
       "    }\n",
       "</style>\n",
       "<table border=\"1\" class=\"dataframe\">\n",
       "  <thead>\n",
       "    <tr style=\"text-align: right;\">\n",
       "      <th></th>\n",
       "      <th>Customer ID</th>\n",
       "    </tr>\n",
       "  </thead>\n",
       "  <tbody>\n",
       "    <tr>\n",
       "      <th>0</th>\n",
       "      <td>001</td>\n",
       "    </tr>\n",
       "    <tr>\n",
       "      <th>1</th>\n",
       "      <td>002</td>\n",
       "    </tr>\n",
       "    <tr>\n",
       "      <th>2</th>\n",
       "      <td>003</td>\n",
       "    </tr>\n",
       "  </tbody>\n",
       "</table>\n",
       "</div>"
      ],
      "text/plain": [
       "  Customer ID\n",
       "0         001\n",
       "1         002\n",
       "2         003"
      ]
     },
     "execution_count": 121,
     "metadata": {},
     "output_type": "execute_result"
    }
   ],
   "source": [
    "# firstly, we need to create EntitySet which is a collection of entities \n",
    "# and the relationships between them\n",
    "# They are useful for preparing raw, structured datasets for auto feature engineering.\n",
    "\n",
    "es = ft.EntitySet(id=\"customer_data\") # create empty EntitySet\n",
    "\n",
    "# one entity should be each customers\n",
    "df_customer = dataset.groupby(['Customer ID']).count().reset_index()[['Customer ID']]\n",
    "df_customer"
   ]
  },
  {
   "cell_type": "code",
   "execution_count": 122,
   "metadata": {
    "ExecuteTime": {
     "end_time": "2020-01-10T23:36:07.797766Z",
     "start_time": "2020-01-10T23:36:07.790246Z"
    }
   },
   "outputs": [
    {
     "data": {
      "text/plain": [
       "Entity: Customer\n",
       "  Variables:\n",
       "    Customer ID (dtype: index)\n",
       "  Shape:\n",
       "    (Rows: 3, Columns: 1)"
      ]
     },
     "execution_count": 122,
     "metadata": {},
     "output_type": "execute_result"
    }
   ],
   "source": [
    "# now we will add this entity into the EntitySet\n",
    "es = es.entity_from_dataframe(entity_id=\"Customer\",\n",
    "                              dataframe=df_id,\n",
    "                              index= 'Customer ID') # the Customer ID is the variable to index the entity\n",
    "\n",
    "es['Customer']"
   ]
  },
  {
   "cell_type": "code",
   "execution_count": 123,
   "metadata": {
    "ExecuteTime": {
     "end_time": "2020-01-10T23:36:09.541594Z",
     "start_time": "2020-01-10T23:36:09.525747Z"
    }
   },
   "outputs": [
    {
     "data": {
      "text/plain": [
       "Entity: Transaction\n",
       "  Variables:\n",
       "    index (dtype: index)\n",
       "    Customer ID (dtype: categorical)\n",
       "    Time (dtype: datetime_time_index)\n",
       "    Item Purchase (dtype: categorical)\n",
       "    Seconds Stay (dtype: numeric)\n",
       "    Sex (dtype: categorical)\n",
       "    Age (dtype: numeric)\n",
       "    Target (dtype: numeric)\n",
       "  Shape:\n",
       "    (Rows: 7, Columns: 8)"
      ]
     },
     "execution_count": 123,
     "metadata": {},
     "output_type": "execute_result"
    }
   ],
   "source": [
    "# the second entiry should be each transaction\n",
    "es = es.entity_from_dataframe(entity_id=\"Transaction\",\n",
    "                              dataframe=dataset.reset_index(),\n",
    "                              index=\"index\", # the variable used to index the entity\n",
    "                              time_index=\"Time\", # the column with time\n",
    "                              variable_types={\"Item Purchase\": ft.variable_types.Categorical, \n",
    "                                              \"Seconds Stay\": ft.variable_types.Numeric,\n",
    "                                              \"Sex\": ft.variable_types.Categorical,\n",
    "                                              \"Age\": ft.variable_types.Numeric,\n",
    "                                              \"Target\": ft.variable_types.Numeric})\n",
    "es['Transaction']"
   ]
  },
  {
   "cell_type": "code",
   "execution_count": 124,
   "metadata": {
    "ExecuteTime": {
     "end_time": "2020-01-10T23:36:11.197612Z",
     "start_time": "2020-01-10T23:36:11.191825Z"
    }
   },
   "outputs": [
    {
     "data": {
      "text/plain": [
       "Entityset: customer_data\n",
       "  Entities:\n",
       "    Customer [Rows: 3, Columns: 1]\n",
       "    Transaction [Rows: 7, Columns: 8]\n",
       "  Relationships:\n",
       "    Transaction.Customer ID -> Customer.Customer ID"
      ]
     },
     "execution_count": 124,
     "metadata": {},
     "output_type": "execute_result"
    }
   ],
   "source": [
    "# now we will add a relationship\n",
    "relationship = ft.Relationship(es[\"Customer\"][\"Customer ID\"],\n",
    "                               es[\"Transaction\"][\"Customer ID\"])\n",
    "# Each customer has multiple transactions associated with it, so it is called it the \n",
    "# parent entity, while the transactions entity is known as the child entity\n",
    "\n",
    "es = es.add_relationship(relationship)\n",
    "es"
   ]
  },
  {
   "cell_type": "markdown",
   "metadata": {},
   "source": [
    "#### Set up cut-time"
   ]
  },
  {
   "cell_type": "code",
   "execution_count": 125,
   "metadata": {
    "ExecuteTime": {
     "end_time": "2020-01-10T23:36:12.835983Z",
     "start_time": "2020-01-10T23:36:12.824935Z"
    }
   },
   "outputs": [
    {
     "data": {
      "text/html": [
       "<div>\n",
       "<style scoped>\n",
       "    .dataframe tbody tr th:only-of-type {\n",
       "        vertical-align: middle;\n",
       "    }\n",
       "\n",
       "    .dataframe tbody tr th {\n",
       "        vertical-align: top;\n",
       "    }\n",
       "\n",
       "    .dataframe thead th {\n",
       "        text-align: right;\n",
       "    }\n",
       "</style>\n",
       "<table border=\"1\" class=\"dataframe\">\n",
       "  <thead>\n",
       "    <tr style=\"text-align: right;\">\n",
       "      <th></th>\n",
       "      <th>Customer ID</th>\n",
       "      <th>Time</th>\n",
       "      <th>Sex</th>\n",
       "      <th>Age</th>\n",
       "      <th>Target</th>\n",
       "    </tr>\n",
       "  </thead>\n",
       "  <tbody>\n",
       "    <tr>\n",
       "      <th>0</th>\n",
       "      <td>001</td>\n",
       "      <td>2020-01-01</td>\n",
       "      <td>male</td>\n",
       "      <td>35</td>\n",
       "      <td>1</td>\n",
       "    </tr>\n",
       "    <tr>\n",
       "      <th>1</th>\n",
       "      <td>002</td>\n",
       "      <td>2020-01-01</td>\n",
       "      <td>female</td>\n",
       "      <td>30</td>\n",
       "      <td>0</td>\n",
       "    </tr>\n",
       "    <tr>\n",
       "      <th>2</th>\n",
       "      <td>003</td>\n",
       "      <td>2020-01-01</td>\n",
       "      <td>male</td>\n",
       "      <td>20</td>\n",
       "      <td>1</td>\n",
       "    </tr>\n",
       "    <tr>\n",
       "      <th>3</th>\n",
       "      <td>001</td>\n",
       "      <td>2020-01-03</td>\n",
       "      <td>male</td>\n",
       "      <td>35</td>\n",
       "      <td>0</td>\n",
       "    </tr>\n",
       "    <tr>\n",
       "      <th>4</th>\n",
       "      <td>002</td>\n",
       "      <td>2020-01-03</td>\n",
       "      <td>female</td>\n",
       "      <td>30</td>\n",
       "      <td>1</td>\n",
       "    </tr>\n",
       "    <tr>\n",
       "      <th>5</th>\n",
       "      <td>001</td>\n",
       "      <td>2020-01-06</td>\n",
       "      <td>male</td>\n",
       "      <td>35</td>\n",
       "      <td>1</td>\n",
       "    </tr>\n",
       "    <tr>\n",
       "      <th>6</th>\n",
       "      <td>003</td>\n",
       "      <td>2020-01-07</td>\n",
       "      <td>male</td>\n",
       "      <td>20</td>\n",
       "      <td>1</td>\n",
       "    </tr>\n",
       "  </tbody>\n",
       "</table>\n",
       "</div>"
      ],
      "text/plain": [
       "  Customer ID       Time     Sex  Age  Target\n",
       "0         001 2020-01-01    male   35       1\n",
       "1         002 2020-01-01  female   30       0\n",
       "2         003 2020-01-01    male   20       1\n",
       "3         001 2020-01-03    male   35       0\n",
       "4         002 2020-01-03  female   30       1\n",
       "5         001 2020-01-06    male   35       1\n",
       "6         003 2020-01-07    male   20       1"
      ]
     },
     "execution_count": 125,
     "metadata": {},
     "output_type": "execute_result"
    }
   ],
   "source": [
    "# create cut-time\n",
    "# Oftentimes, the training examples for ML will come \n",
    "# from different points in time. To specify a unique cutoff time for \n",
    "# each row of the resulting feature matrix, we can pass a dataframe \n",
    "# where the first column is the instance id and the second column \n",
    "# is the corresponding cutoff time. \n",
    "\n",
    "# The cutoff_time specifies the last point in time that a row’s data can be used for \n",
    "# a feature calculation. Any data after this point in time \n",
    "# will be filtered out before calculating features.\n",
    "\n",
    "ct = dataset[['Customer ID','Time','Sex','Age','Target']].copy() # the cut-off dataframe\n",
    "ct"
   ]
  },
  {
   "cell_type": "code",
   "execution_count": 126,
   "metadata": {
    "ExecuteTime": {
     "end_time": "2020-01-10T23:36:14.438824Z",
     "start_time": "2020-01-10T23:36:14.428693Z"
    }
   },
   "outputs": [
    {
     "data": {
      "text/html": [
       "<div>\n",
       "<style scoped>\n",
       "    .dataframe tbody tr th:only-of-type {\n",
       "        vertical-align: middle;\n",
       "    }\n",
       "\n",
       "    .dataframe tbody tr th {\n",
       "        vertical-align: top;\n",
       "    }\n",
       "\n",
       "    .dataframe thead th {\n",
       "        text-align: right;\n",
       "    }\n",
       "</style>\n",
       "<table border=\"1\" class=\"dataframe\">\n",
       "  <thead>\n",
       "    <tr style=\"text-align: right;\">\n",
       "      <th></th>\n",
       "      <th>Customer ID</th>\n",
       "      <th>Time</th>\n",
       "      <th>Sex</th>\n",
       "      <th>Age</th>\n",
       "      <th>Target</th>\n",
       "    </tr>\n",
       "  </thead>\n",
       "  <tbody>\n",
       "    <tr>\n",
       "      <th>0</th>\n",
       "      <td>001</td>\n",
       "      <td>2019-12-31 23:59:59</td>\n",
       "      <td>male</td>\n",
       "      <td>35</td>\n",
       "      <td>1</td>\n",
       "    </tr>\n",
       "    <tr>\n",
       "      <th>1</th>\n",
       "      <td>002</td>\n",
       "      <td>2019-12-31 23:59:59</td>\n",
       "      <td>female</td>\n",
       "      <td>30</td>\n",
       "      <td>0</td>\n",
       "    </tr>\n",
       "    <tr>\n",
       "      <th>2</th>\n",
       "      <td>003</td>\n",
       "      <td>2019-12-31 23:59:59</td>\n",
       "      <td>male</td>\n",
       "      <td>20</td>\n",
       "      <td>1</td>\n",
       "    </tr>\n",
       "    <tr>\n",
       "      <th>3</th>\n",
       "      <td>001</td>\n",
       "      <td>2020-01-02 23:59:59</td>\n",
       "      <td>male</td>\n",
       "      <td>35</td>\n",
       "      <td>0</td>\n",
       "    </tr>\n",
       "    <tr>\n",
       "      <th>4</th>\n",
       "      <td>002</td>\n",
       "      <td>2020-01-02 23:59:59</td>\n",
       "      <td>female</td>\n",
       "      <td>30</td>\n",
       "      <td>1</td>\n",
       "    </tr>\n",
       "    <tr>\n",
       "      <th>5</th>\n",
       "      <td>001</td>\n",
       "      <td>2020-01-05 23:59:59</td>\n",
       "      <td>male</td>\n",
       "      <td>35</td>\n",
       "      <td>1</td>\n",
       "    </tr>\n",
       "    <tr>\n",
       "      <th>6</th>\n",
       "      <td>003</td>\n",
       "      <td>2020-01-06 23:59:59</td>\n",
       "      <td>male</td>\n",
       "      <td>20</td>\n",
       "      <td>1</td>\n",
       "    </tr>\n",
       "  </tbody>\n",
       "</table>\n",
       "</div>"
      ],
      "text/plain": [
       "  Customer ID                Time     Sex  Age  Target\n",
       "0         001 2019-12-31 23:59:59    male   35       1\n",
       "1         002 2019-12-31 23:59:59  female   30       0\n",
       "2         003 2019-12-31 23:59:59    male   20       1\n",
       "3         001 2020-01-02 23:59:59    male   35       0\n",
       "4         002 2020-01-02 23:59:59  female   30       1\n",
       "5         001 2020-01-05 23:59:59    male   35       1\n",
       "6         003 2020-01-06 23:59:59    male   20       1"
      ]
     },
     "execution_count": 126,
     "metadata": {},
     "output_type": "execute_result"
    }
   ],
   "source": [
    "# but in our case, we want the cut-off time for each row to be slightly early in our case\n",
    "# because we don't have the current row information to predict the purchase at that time\n",
    "# for example, we won't know which product a custimer bought until he finished the purchase\n",
    "\n",
    "ct['Time'] = ct['Time'] + datetime.timedelta(seconds = -1) \n",
    "# set cut-off time to be 1 seconds eary than the log-in time\n",
    "ct"
   ]
  },
  {
   "cell_type": "markdown",
   "metadata": {},
   "source": [
    "#### Auto Feature Engineering"
   ]
  },
  {
   "cell_type": "code",
   "execution_count": 127,
   "metadata": {
    "ExecuteTime": {
     "end_time": "2020-01-10T23:36:16.432214Z",
     "start_time": "2020-01-10T23:36:16.112468Z"
    }
   },
   "outputs": [],
   "source": [
    "# start feature engineering without specifying what transformation we want\n",
    "fm, features = ft.dfs(entityset=es,\n",
    "                      target_entity='Customer',\n",
    "                      max_depth=2, # set the depth to be 2, which means interaction term\n",
    "                      # include at most 2 features\n",
    "                      cutoff_time=ct,\n",
    "                      cutoff_time_in_index=True) \n",
    "# we can even specify the training_window for feature like moving-avg"
   ]
  },
  {
   "cell_type": "code",
   "execution_count": 128,
   "metadata": {
    "ExecuteTime": {
     "end_time": "2020-01-10T23:36:17.404971Z",
     "start_time": "2020-01-10T23:36:17.400339Z"
    }
   },
   "outputs": [
    {
     "data": {
      "text/plain": [
       "Index(['SUM(Transaction.Age)', 'SUM(Transaction.Seconds Stay)',\n",
       "       'SUM(Transaction.Target)', 'STD(Transaction.Age)',\n",
       "       'STD(Transaction.Seconds Stay)', 'STD(Transaction.Target)',\n",
       "       'MAX(Transaction.Age)', 'MAX(Transaction.Seconds Stay)',\n",
       "       'MAX(Transaction.Target)', 'SKEW(Transaction.Age)',\n",
       "       'SKEW(Transaction.Seconds Stay)', 'SKEW(Transaction.Target)',\n",
       "       'MIN(Transaction.Age)', 'MIN(Transaction.Seconds Stay)',\n",
       "       'MIN(Transaction.Target)', 'MEAN(Transaction.Age)',\n",
       "       'MEAN(Transaction.Seconds Stay)', 'MEAN(Transaction.Target)',\n",
       "       'COUNT(Transaction)', 'NUM_UNIQUE(Transaction.Sex)',\n",
       "       'NUM_UNIQUE(Transaction.Item Purchase)', 'MODE(Transaction.Sex)',\n",
       "       'MODE(Transaction.Item Purchase)',\n",
       "       'NUM_UNIQUE(Transaction.MONTH(Time))',\n",
       "       'NUM_UNIQUE(Transaction.YEAR(Time))',\n",
       "       'NUM_UNIQUE(Transaction.WEEKDAY(Time))',\n",
       "       'NUM_UNIQUE(Transaction.DAY(Time))', 'MODE(Transaction.MONTH(Time))',\n",
       "       'MODE(Transaction.YEAR(Time))', 'MODE(Transaction.WEEKDAY(Time))',\n",
       "       'MODE(Transaction.DAY(Time))', 'Sex', 'Age', 'Target'],\n",
       "      dtype='object')"
      ]
     },
     "execution_count": 128,
     "metadata": {},
     "output_type": "execute_result"
    }
   ],
   "source": [
    "fm; # the feature engineering result\n",
    "fm.columns"
   ]
  },
  {
   "cell_type": "code",
   "execution_count": 129,
   "metadata": {
    "ExecuteTime": {
     "end_time": "2020-01-10T23:36:18.915844Z",
     "start_time": "2020-01-10T23:36:18.911365Z"
    }
   },
   "outputs": [
    {
     "data": {
      "text/plain": [
       "[<Feature: SUM(Transaction.Age)>,\n",
       " <Feature: SUM(Transaction.Seconds Stay)>,\n",
       " <Feature: SUM(Transaction.Target)>,\n",
       " <Feature: STD(Transaction.Age)>,\n",
       " <Feature: STD(Transaction.Seconds Stay)>,\n",
       " <Feature: STD(Transaction.Target)>,\n",
       " <Feature: MAX(Transaction.Age)>,\n",
       " <Feature: MAX(Transaction.Seconds Stay)>,\n",
       " <Feature: MAX(Transaction.Target)>,\n",
       " <Feature: SKEW(Transaction.Age)>,\n",
       " <Feature: SKEW(Transaction.Seconds Stay)>,\n",
       " <Feature: SKEW(Transaction.Target)>,\n",
       " <Feature: MIN(Transaction.Age)>,\n",
       " <Feature: MIN(Transaction.Seconds Stay)>,\n",
       " <Feature: MIN(Transaction.Target)>,\n",
       " <Feature: MEAN(Transaction.Age)>,\n",
       " <Feature: MEAN(Transaction.Seconds Stay)>,\n",
       " <Feature: MEAN(Transaction.Target)>,\n",
       " <Feature: COUNT(Transaction)>,\n",
       " <Feature: NUM_UNIQUE(Transaction.Sex)>,\n",
       " <Feature: NUM_UNIQUE(Transaction.Item Purchase)>,\n",
       " <Feature: MODE(Transaction.Sex)>,\n",
       " <Feature: MODE(Transaction.Item Purchase)>,\n",
       " <Feature: NUM_UNIQUE(Transaction.MONTH(Time))>,\n",
       " <Feature: NUM_UNIQUE(Transaction.YEAR(Time))>,\n",
       " <Feature: NUM_UNIQUE(Transaction.WEEKDAY(Time))>,\n",
       " <Feature: NUM_UNIQUE(Transaction.DAY(Time))>,\n",
       " <Feature: MODE(Transaction.MONTH(Time))>,\n",
       " <Feature: MODE(Transaction.YEAR(Time))>,\n",
       " <Feature: MODE(Transaction.WEEKDAY(Time))>,\n",
       " <Feature: MODE(Transaction.DAY(Time))>]"
      ]
     },
     "execution_count": 129,
     "metadata": {},
     "output_type": "execute_result"
    }
   ],
   "source": [
    "features # the name of each features after feature engineering\n",
    "# the auto feature engineering generated some features that makes no sense such as \n",
    "# the NUM_UNIQUE() in Sex, which will never change\n",
    "# in fact, we can specify the transformation for each features."
   ]
  },
  {
   "cell_type": "markdown",
   "metadata": {},
   "source": [
    "Specify transformation for each features"
   ]
  },
  {
   "cell_type": "code",
   "execution_count": 130,
   "metadata": {
    "ExecuteTime": {
     "end_time": "2020-01-10T23:36:19.786614Z",
     "start_time": "2020-01-10T23:36:19.781820Z"
    }
   },
   "outputs": [],
   "source": [
    "from featuretools.primitives import TimeSinceLast\n",
    "# import TimeSinceLast so that we can specify the unit\n",
    "\n",
    "operation_dict = {(\"count\", TimeSinceLast(unit = \"hours\")): {\"include_variables\": {\"Transaction\": [\"index\"]}},\n",
    "                  (\"entropy\", \n",
    "                   \"num_unique\",\n",
    "                   \"mode\"): {\"include_variables\": {\"Transaction\": [\"Item Purchase\"]}},\n",
    "                  (\"mean\", \n",
    "                   \"max\",\n",
    "                   \"median\",\n",
    "                   \"skew\",\n",
    "                   \"std\"): {\"include_variables\": {\"Transaction\": [\"Seconds Stay\",\"Target\"]}},\n",
    "                   \"last\": {\"include_variables\": {\"Transaction\": [\"Item Purchase\",\"Seconds Stay\",\n",
    "                                                                  \"Target\"]}}\n",
    "                 }\n",
    "\n",
    "# we want a count operation showing how many login times before each transaction\n",
    "# we want a TimeSinceLast operation showing the time gap between last login and this time\n",
    "# we want the entropy, num_unique, mode and last for categorical variable Item Purchase\n",
    "# we want mean, max, median, skew, std and  last for numeric variable Seconds Stay, Target(lag)"
   ]
  },
  {
   "cell_type": "code",
   "execution_count": 131,
   "metadata": {
    "ExecuteTime": {
     "end_time": "2020-01-10T23:36:20.436407Z",
     "start_time": "2020-01-10T23:36:20.223075Z"
    }
   },
   "outputs": [],
   "source": [
    "fm, features = ft.dfs(entityset=es,\n",
    "                      target_entity='Customer',\n",
    "                      max_depth=2,\n",
    "                      cutoff_time=ct,\n",
    "                      cutoff_time_in_index=True, \n",
    "                      agg_primitives = ['count','entropy', 'num_unique','mode','last',\n",
    "                                        'mean','max','median','skew','std',\n",
    "                                        TimeSinceLast(unit = \"hours\")],\n",
    "                      # for simplification, we do not include transform primative\n",
    "                      # which takes one or more variables from an entity as an input \n",
    "                      # and output a new variable for that entity\n",
    "                      \n",
    "                      # difference between aggregation primitive & transform primitive\n",
    "                      # https://docs.featuretools.com/en/latest/automated_feature_engineering/primitives.html\n",
    "                      primitive_options= operation_dict # specify transformation for each features\n",
    "                      )"
   ]
  },
  {
   "cell_type": "code",
   "execution_count": 132,
   "metadata": {
    "ExecuteTime": {
     "end_time": "2020-01-10T23:36:20.758307Z",
     "start_time": "2020-01-10T23:36:20.753972Z"
    }
   },
   "outputs": [
    {
     "data": {
      "text/plain": [
       "[<Feature: COUNT(Transaction)>,\n",
       " <Feature: ENTROPY(Transaction.Item Purchase)>,\n",
       " <Feature: NUM_UNIQUE(Transaction.Item Purchase)>,\n",
       " <Feature: MODE(Transaction.Item Purchase)>,\n",
       " <Feature: LAST(Transaction.Seconds Stay)>,\n",
       " <Feature: LAST(Transaction.Item Purchase)>,\n",
       " <Feature: LAST(Transaction.Target)>,\n",
       " <Feature: MEAN(Transaction.Seconds Stay)>,\n",
       " <Feature: MEAN(Transaction.Target)>,\n",
       " <Feature: MAX(Transaction.Seconds Stay)>,\n",
       " <Feature: MAX(Transaction.Target)>,\n",
       " <Feature: MEDIAN(Transaction.Seconds Stay)>,\n",
       " <Feature: MEDIAN(Transaction.Target)>,\n",
       " <Feature: SKEW(Transaction.Seconds Stay)>,\n",
       " <Feature: SKEW(Transaction.Target)>,\n",
       " <Feature: STD(Transaction.Seconds Stay)>,\n",
       " <Feature: STD(Transaction.Target)>,\n",
       " <Feature: TIME_SINCE_LAST(Transaction.Time, unit=hours)>]"
      ]
     },
     "execution_count": 132,
     "metadata": {},
     "output_type": "execute_result"
    }
   ],
   "source": [
    "features"
   ]
  },
  {
   "cell_type": "code",
   "execution_count": 133,
   "metadata": {
    "ExecuteTime": {
     "end_time": "2020-01-10T23:36:21.465938Z",
     "start_time": "2020-01-10T23:36:21.440346Z"
    }
   },
   "outputs": [
    {
     "data": {
      "text/html": [
       "<div>\n",
       "<style scoped>\n",
       "    .dataframe tbody tr th:only-of-type {\n",
       "        vertical-align: middle;\n",
       "    }\n",
       "\n",
       "    .dataframe tbody tr th {\n",
       "        vertical-align: top;\n",
       "    }\n",
       "\n",
       "    .dataframe thead th {\n",
       "        text-align: right;\n",
       "    }\n",
       "</style>\n",
       "<table border=\"1\" class=\"dataframe\">\n",
       "  <thead>\n",
       "    <tr style=\"text-align: right;\">\n",
       "      <th></th>\n",
       "      <th></th>\n",
       "      <th>COUNT(Transaction)</th>\n",
       "      <th>ENTROPY(Transaction.Item Purchase)</th>\n",
       "      <th>NUM_UNIQUE(Transaction.Item Purchase)</th>\n",
       "      <th>MODE(Transaction.Item Purchase)</th>\n",
       "      <th>LAST(Transaction.Seconds Stay)</th>\n",
       "      <th>LAST(Transaction.Item Purchase)</th>\n",
       "      <th>LAST(Transaction.Target)</th>\n",
       "      <th>MEAN(Transaction.Seconds Stay)</th>\n",
       "      <th>MEAN(Transaction.Target)</th>\n",
       "      <th>MAX(Transaction.Seconds Stay)</th>\n",
       "      <th>...</th>\n",
       "      <th>MEDIAN(Transaction.Seconds Stay)</th>\n",
       "      <th>MEDIAN(Transaction.Target)</th>\n",
       "      <th>SKEW(Transaction.Seconds Stay)</th>\n",
       "      <th>SKEW(Transaction.Target)</th>\n",
       "      <th>STD(Transaction.Seconds Stay)</th>\n",
       "      <th>STD(Transaction.Target)</th>\n",
       "      <th>TIME_SINCE_LAST(Transaction.Time, unit=hours)</th>\n",
       "      <th>Sex</th>\n",
       "      <th>Age</th>\n",
       "      <th>Target</th>\n",
       "    </tr>\n",
       "    <tr>\n",
       "      <th>Customer ID</th>\n",
       "      <th>time</th>\n",
       "      <th></th>\n",
       "      <th></th>\n",
       "      <th></th>\n",
       "      <th></th>\n",
       "      <th></th>\n",
       "      <th></th>\n",
       "      <th></th>\n",
       "      <th></th>\n",
       "      <th></th>\n",
       "      <th></th>\n",
       "      <th></th>\n",
       "      <th></th>\n",
       "      <th></th>\n",
       "      <th></th>\n",
       "      <th></th>\n",
       "      <th></th>\n",
       "      <th></th>\n",
       "      <th></th>\n",
       "      <th></th>\n",
       "      <th></th>\n",
       "      <th></th>\n",
       "    </tr>\n",
       "  </thead>\n",
       "  <tbody>\n",
       "    <tr>\n",
       "      <th>001</th>\n",
       "      <th>2019-12-31 23:59:59</th>\n",
       "      <td>0.0</td>\n",
       "      <td>NaN</td>\n",
       "      <td>NaN</td>\n",
       "      <td>NaN</td>\n",
       "      <td>NaN</td>\n",
       "      <td>NaN</td>\n",
       "      <td>NaN</td>\n",
       "      <td>NaN</td>\n",
       "      <td>NaN</td>\n",
       "      <td>NaN</td>\n",
       "      <td>...</td>\n",
       "      <td>NaN</td>\n",
       "      <td>NaN</td>\n",
       "      <td>NaN</td>\n",
       "      <td>NaN</td>\n",
       "      <td>NaN</td>\n",
       "      <td>NaN</td>\n",
       "      <td>NaN</td>\n",
       "      <td>male</td>\n",
       "      <td>35</td>\n",
       "      <td>1</td>\n",
       "    </tr>\n",
       "    <tr>\n",
       "      <th>002</th>\n",
       "      <th>2019-12-31 23:59:59</th>\n",
       "      <td>0.0</td>\n",
       "      <td>NaN</td>\n",
       "      <td>NaN</td>\n",
       "      <td>NaN</td>\n",
       "      <td>NaN</td>\n",
       "      <td>NaN</td>\n",
       "      <td>NaN</td>\n",
       "      <td>NaN</td>\n",
       "      <td>NaN</td>\n",
       "      <td>NaN</td>\n",
       "      <td>...</td>\n",
       "      <td>NaN</td>\n",
       "      <td>NaN</td>\n",
       "      <td>NaN</td>\n",
       "      <td>NaN</td>\n",
       "      <td>NaN</td>\n",
       "      <td>NaN</td>\n",
       "      <td>NaN</td>\n",
       "      <td>female</td>\n",
       "      <td>30</td>\n",
       "      <td>0</td>\n",
       "    </tr>\n",
       "    <tr>\n",
       "      <th>003</th>\n",
       "      <th>2019-12-31 23:59:59</th>\n",
       "      <td>0.0</td>\n",
       "      <td>NaN</td>\n",
       "      <td>NaN</td>\n",
       "      <td>NaN</td>\n",
       "      <td>NaN</td>\n",
       "      <td>NaN</td>\n",
       "      <td>NaN</td>\n",
       "      <td>NaN</td>\n",
       "      <td>NaN</td>\n",
       "      <td>NaN</td>\n",
       "      <td>...</td>\n",
       "      <td>NaN</td>\n",
       "      <td>NaN</td>\n",
       "      <td>NaN</td>\n",
       "      <td>NaN</td>\n",
       "      <td>NaN</td>\n",
       "      <td>NaN</td>\n",
       "      <td>NaN</td>\n",
       "      <td>male</td>\n",
       "      <td>20</td>\n",
       "      <td>1</td>\n",
       "    </tr>\n",
       "    <tr>\n",
       "      <th>001</th>\n",
       "      <th>2020-01-02 23:59:59</th>\n",
       "      <td>1.0</td>\n",
       "      <td>0.000000</td>\n",
       "      <td>1.0</td>\n",
       "      <td>Apple</td>\n",
       "      <td>100.0</td>\n",
       "      <td>Apple</td>\n",
       "      <td>1.0</td>\n",
       "      <td>100.0</td>\n",
       "      <td>1.0</td>\n",
       "      <td>100.0</td>\n",
       "      <td>...</td>\n",
       "      <td>100.0</td>\n",
       "      <td>1.0</td>\n",
       "      <td>NaN</td>\n",
       "      <td>NaN</td>\n",
       "      <td>NaN</td>\n",
       "      <td>NaN</td>\n",
       "      <td>47.999722</td>\n",
       "      <td>male</td>\n",
       "      <td>35</td>\n",
       "      <td>0</td>\n",
       "    </tr>\n",
       "    <tr>\n",
       "      <th>002</th>\n",
       "      <th>2020-01-02 23:59:59</th>\n",
       "      <td>1.0</td>\n",
       "      <td>0.000000</td>\n",
       "      <td>0.0</td>\n",
       "      <td>NaN</td>\n",
       "      <td>20.0</td>\n",
       "      <td>NaN</td>\n",
       "      <td>0.0</td>\n",
       "      <td>20.0</td>\n",
       "      <td>0.0</td>\n",
       "      <td>20.0</td>\n",
       "      <td>...</td>\n",
       "      <td>20.0</td>\n",
       "      <td>0.0</td>\n",
       "      <td>NaN</td>\n",
       "      <td>NaN</td>\n",
       "      <td>NaN</td>\n",
       "      <td>NaN</td>\n",
       "      <td>47.999722</td>\n",
       "      <td>female</td>\n",
       "      <td>30</td>\n",
       "      <td>1</td>\n",
       "    </tr>\n",
       "    <tr>\n",
       "      <th>001</th>\n",
       "      <th>2020-01-05 23:59:59</th>\n",
       "      <td>2.0</td>\n",
       "      <td>0.693147</td>\n",
       "      <td>1.0</td>\n",
       "      <td>Apple</td>\n",
       "      <td>13.0</td>\n",
       "      <td>NaN</td>\n",
       "      <td>0.0</td>\n",
       "      <td>56.5</td>\n",
       "      <td>0.5</td>\n",
       "      <td>100.0</td>\n",
       "      <td>...</td>\n",
       "      <td>56.5</td>\n",
       "      <td>0.5</td>\n",
       "      <td>NaN</td>\n",
       "      <td>NaN</td>\n",
       "      <td>61.51829</td>\n",
       "      <td>0.707107</td>\n",
       "      <td>71.999722</td>\n",
       "      <td>male</td>\n",
       "      <td>35</td>\n",
       "      <td>1</td>\n",
       "    </tr>\n",
       "    <tr>\n",
       "      <th>003</th>\n",
       "      <th>2020-01-06 23:59:59</th>\n",
       "      <td>1.0</td>\n",
       "      <td>0.000000</td>\n",
       "      <td>1.0</td>\n",
       "      <td>Orange</td>\n",
       "      <td>50.0</td>\n",
       "      <td>Orange</td>\n",
       "      <td>1.0</td>\n",
       "      <td>50.0</td>\n",
       "      <td>1.0</td>\n",
       "      <td>50.0</td>\n",
       "      <td>...</td>\n",
       "      <td>50.0</td>\n",
       "      <td>1.0</td>\n",
       "      <td>NaN</td>\n",
       "      <td>NaN</td>\n",
       "      <td>NaN</td>\n",
       "      <td>NaN</td>\n",
       "      <td>143.999722</td>\n",
       "      <td>male</td>\n",
       "      <td>20</td>\n",
       "      <td>1</td>\n",
       "    </tr>\n",
       "  </tbody>\n",
       "</table>\n",
       "<p>7 rows × 21 columns</p>\n",
       "</div>"
      ],
      "text/plain": [
       "                                 COUNT(Transaction)  \\\n",
       "Customer ID time                                      \n",
       "001         2019-12-31 23:59:59                 0.0   \n",
       "002         2019-12-31 23:59:59                 0.0   \n",
       "003         2019-12-31 23:59:59                 0.0   \n",
       "001         2020-01-02 23:59:59                 1.0   \n",
       "002         2020-01-02 23:59:59                 1.0   \n",
       "001         2020-01-05 23:59:59                 2.0   \n",
       "003         2020-01-06 23:59:59                 1.0   \n",
       "\n",
       "                                 ENTROPY(Transaction.Item Purchase)  \\\n",
       "Customer ID time                                                      \n",
       "001         2019-12-31 23:59:59                                 NaN   \n",
       "002         2019-12-31 23:59:59                                 NaN   \n",
       "003         2019-12-31 23:59:59                                 NaN   \n",
       "001         2020-01-02 23:59:59                            0.000000   \n",
       "002         2020-01-02 23:59:59                            0.000000   \n",
       "001         2020-01-05 23:59:59                            0.693147   \n",
       "003         2020-01-06 23:59:59                            0.000000   \n",
       "\n",
       "                                 NUM_UNIQUE(Transaction.Item Purchase)  \\\n",
       "Customer ID time                                                         \n",
       "001         2019-12-31 23:59:59                                    NaN   \n",
       "002         2019-12-31 23:59:59                                    NaN   \n",
       "003         2019-12-31 23:59:59                                    NaN   \n",
       "001         2020-01-02 23:59:59                                    1.0   \n",
       "002         2020-01-02 23:59:59                                    0.0   \n",
       "001         2020-01-05 23:59:59                                    1.0   \n",
       "003         2020-01-06 23:59:59                                    1.0   \n",
       "\n",
       "                                MODE(Transaction.Item Purchase)  \\\n",
       "Customer ID time                                                  \n",
       "001         2019-12-31 23:59:59                             NaN   \n",
       "002         2019-12-31 23:59:59                             NaN   \n",
       "003         2019-12-31 23:59:59                             NaN   \n",
       "001         2020-01-02 23:59:59                           Apple   \n",
       "002         2020-01-02 23:59:59                             NaN   \n",
       "001         2020-01-05 23:59:59                           Apple   \n",
       "003         2020-01-06 23:59:59                          Orange   \n",
       "\n",
       "                                 LAST(Transaction.Seconds Stay)  \\\n",
       "Customer ID time                                                  \n",
       "001         2019-12-31 23:59:59                             NaN   \n",
       "002         2019-12-31 23:59:59                             NaN   \n",
       "003         2019-12-31 23:59:59                             NaN   \n",
       "001         2020-01-02 23:59:59                           100.0   \n",
       "002         2020-01-02 23:59:59                            20.0   \n",
       "001         2020-01-05 23:59:59                            13.0   \n",
       "003         2020-01-06 23:59:59                            50.0   \n",
       "\n",
       "                                LAST(Transaction.Item Purchase)  \\\n",
       "Customer ID time                                                  \n",
       "001         2019-12-31 23:59:59                             NaN   \n",
       "002         2019-12-31 23:59:59                             NaN   \n",
       "003         2019-12-31 23:59:59                             NaN   \n",
       "001         2020-01-02 23:59:59                           Apple   \n",
       "002         2020-01-02 23:59:59                             NaN   \n",
       "001         2020-01-05 23:59:59                             NaN   \n",
       "003         2020-01-06 23:59:59                          Orange   \n",
       "\n",
       "                                 LAST(Transaction.Target)  \\\n",
       "Customer ID time                                            \n",
       "001         2019-12-31 23:59:59                       NaN   \n",
       "002         2019-12-31 23:59:59                       NaN   \n",
       "003         2019-12-31 23:59:59                       NaN   \n",
       "001         2020-01-02 23:59:59                       1.0   \n",
       "002         2020-01-02 23:59:59                       0.0   \n",
       "001         2020-01-05 23:59:59                       0.0   \n",
       "003         2020-01-06 23:59:59                       1.0   \n",
       "\n",
       "                                 MEAN(Transaction.Seconds Stay)  \\\n",
       "Customer ID time                                                  \n",
       "001         2019-12-31 23:59:59                             NaN   \n",
       "002         2019-12-31 23:59:59                             NaN   \n",
       "003         2019-12-31 23:59:59                             NaN   \n",
       "001         2020-01-02 23:59:59                           100.0   \n",
       "002         2020-01-02 23:59:59                            20.0   \n",
       "001         2020-01-05 23:59:59                            56.5   \n",
       "003         2020-01-06 23:59:59                            50.0   \n",
       "\n",
       "                                 MEAN(Transaction.Target)  \\\n",
       "Customer ID time                                            \n",
       "001         2019-12-31 23:59:59                       NaN   \n",
       "002         2019-12-31 23:59:59                       NaN   \n",
       "003         2019-12-31 23:59:59                       NaN   \n",
       "001         2020-01-02 23:59:59                       1.0   \n",
       "002         2020-01-02 23:59:59                       0.0   \n",
       "001         2020-01-05 23:59:59                       0.5   \n",
       "003         2020-01-06 23:59:59                       1.0   \n",
       "\n",
       "                                 MAX(Transaction.Seconds Stay)  ...  \\\n",
       "Customer ID time                                                ...   \n",
       "001         2019-12-31 23:59:59                            NaN  ...   \n",
       "002         2019-12-31 23:59:59                            NaN  ...   \n",
       "003         2019-12-31 23:59:59                            NaN  ...   \n",
       "001         2020-01-02 23:59:59                          100.0  ...   \n",
       "002         2020-01-02 23:59:59                           20.0  ...   \n",
       "001         2020-01-05 23:59:59                          100.0  ...   \n",
       "003         2020-01-06 23:59:59                           50.0  ...   \n",
       "\n",
       "                                 MEDIAN(Transaction.Seconds Stay)  \\\n",
       "Customer ID time                                                    \n",
       "001         2019-12-31 23:59:59                               NaN   \n",
       "002         2019-12-31 23:59:59                               NaN   \n",
       "003         2019-12-31 23:59:59                               NaN   \n",
       "001         2020-01-02 23:59:59                             100.0   \n",
       "002         2020-01-02 23:59:59                              20.0   \n",
       "001         2020-01-05 23:59:59                              56.5   \n",
       "003         2020-01-06 23:59:59                              50.0   \n",
       "\n",
       "                                 MEDIAN(Transaction.Target)  \\\n",
       "Customer ID time                                              \n",
       "001         2019-12-31 23:59:59                         NaN   \n",
       "002         2019-12-31 23:59:59                         NaN   \n",
       "003         2019-12-31 23:59:59                         NaN   \n",
       "001         2020-01-02 23:59:59                         1.0   \n",
       "002         2020-01-02 23:59:59                         0.0   \n",
       "001         2020-01-05 23:59:59                         0.5   \n",
       "003         2020-01-06 23:59:59                         1.0   \n",
       "\n",
       "                                 SKEW(Transaction.Seconds Stay)  \\\n",
       "Customer ID time                                                  \n",
       "001         2019-12-31 23:59:59                             NaN   \n",
       "002         2019-12-31 23:59:59                             NaN   \n",
       "003         2019-12-31 23:59:59                             NaN   \n",
       "001         2020-01-02 23:59:59                             NaN   \n",
       "002         2020-01-02 23:59:59                             NaN   \n",
       "001         2020-01-05 23:59:59                             NaN   \n",
       "003         2020-01-06 23:59:59                             NaN   \n",
       "\n",
       "                                 SKEW(Transaction.Target)  \\\n",
       "Customer ID time                                            \n",
       "001         2019-12-31 23:59:59                       NaN   \n",
       "002         2019-12-31 23:59:59                       NaN   \n",
       "003         2019-12-31 23:59:59                       NaN   \n",
       "001         2020-01-02 23:59:59                       NaN   \n",
       "002         2020-01-02 23:59:59                       NaN   \n",
       "001         2020-01-05 23:59:59                       NaN   \n",
       "003         2020-01-06 23:59:59                       NaN   \n",
       "\n",
       "                                 STD(Transaction.Seconds Stay)  \\\n",
       "Customer ID time                                                 \n",
       "001         2019-12-31 23:59:59                            NaN   \n",
       "002         2019-12-31 23:59:59                            NaN   \n",
       "003         2019-12-31 23:59:59                            NaN   \n",
       "001         2020-01-02 23:59:59                            NaN   \n",
       "002         2020-01-02 23:59:59                            NaN   \n",
       "001         2020-01-05 23:59:59                       61.51829   \n",
       "003         2020-01-06 23:59:59                            NaN   \n",
       "\n",
       "                                 STD(Transaction.Target)  \\\n",
       "Customer ID time                                           \n",
       "001         2019-12-31 23:59:59                      NaN   \n",
       "002         2019-12-31 23:59:59                      NaN   \n",
       "003         2019-12-31 23:59:59                      NaN   \n",
       "001         2020-01-02 23:59:59                      NaN   \n",
       "002         2020-01-02 23:59:59                      NaN   \n",
       "001         2020-01-05 23:59:59                 0.707107   \n",
       "003         2020-01-06 23:59:59                      NaN   \n",
       "\n",
       "                                 TIME_SINCE_LAST(Transaction.Time, unit=hours)  \\\n",
       "Customer ID time                                                                 \n",
       "001         2019-12-31 23:59:59                                            NaN   \n",
       "002         2019-12-31 23:59:59                                            NaN   \n",
       "003         2019-12-31 23:59:59                                            NaN   \n",
       "001         2020-01-02 23:59:59                                      47.999722   \n",
       "002         2020-01-02 23:59:59                                      47.999722   \n",
       "001         2020-01-05 23:59:59                                      71.999722   \n",
       "003         2020-01-06 23:59:59                                     143.999722   \n",
       "\n",
       "                                    Sex Age  Target  \n",
       "Customer ID time                                     \n",
       "001         2019-12-31 23:59:59    male  35       1  \n",
       "002         2019-12-31 23:59:59  female  30       0  \n",
       "003         2019-12-31 23:59:59    male  20       1  \n",
       "001         2020-01-02 23:59:59    male  35       0  \n",
       "002         2020-01-02 23:59:59  female  30       1  \n",
       "001         2020-01-05 23:59:59    male  35       1  \n",
       "003         2020-01-06 23:59:59    male  20       1  \n",
       "\n",
       "[7 rows x 21 columns]"
      ]
     },
     "execution_count": 133,
     "metadata": {},
     "output_type": "execute_result"
    }
   ],
   "source": [
    "fm"
   ]
  },
  {
   "cell_type": "code",
   "execution_count": null,
   "metadata": {},
   "outputs": [],
   "source": []
  }
 ],
 "metadata": {
  "kernelspec": {
   "display_name": "Python 3",
   "language": "python",
   "name": "python3"
  },
  "language_info": {
   "codemirror_mode": {
    "name": "ipython",
    "version": 3
   },
   "file_extension": ".py",
   "mimetype": "text/x-python",
   "name": "python",
   "nbconvert_exporter": "python",
   "pygments_lexer": "ipython3",
   "version": "3.6.8"
  },
  "toc": {
   "base_numbering": 1,
   "nav_menu": {},
   "number_sections": true,
   "sideBar": false,
   "skip_h1_title": false,
   "title_cell": "Table of Contents",
   "title_sidebar": "Contents",
   "toc_cell": true,
   "toc_position": {
    "height": "720px",
    "left": "35.9336px",
    "top": "120.938px",
    "width": "360px"
   },
   "toc_section_display": true,
   "toc_window_display": true
  }
 },
 "nbformat": 4,
 "nbformat_minor": 2
}
